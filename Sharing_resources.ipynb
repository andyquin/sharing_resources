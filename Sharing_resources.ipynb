{
 "cells": [
  {
   "cell_type": "code",
   "execution_count": 1,
   "metadata": {},
   "outputs": [],
   "source": [
    "import numpy as np\n",
    "import matplotlib.pyplot as plt\n",
    "import math\n",
    "from collections import deque\n",
    "\n",
    "from pyswarm import pso"
   ]
  },
  {
   "cell_type": "code",
   "execution_count": 2,
   "metadata": {},
   "outputs": [],
   "source": [
    "#### functions to transform 1-array into triangular inf matrix  and vice versa ####\n",
    "\n",
    "def i2j_to_k(i, j):\n",
    "    return i*(i-1)/2 + j\n",
    "\n",
    "def k_to_i2j(k):\n",
    "    i = int((1+math.sqrt(1+8*k))/2)\n",
    "    j = int(k - i*(i-1)/2)\n",
    "    return (i,j)\n",
    "    \n",
    "\n",
    "def d1_2_mat(d):\n",
    "    l = len(d)\n",
    "    (n, _) = k_to_i2j(l)\n",
    "    #print(n)\n",
    "    mat = np.zeros([n,n])\n",
    "    for k in range(l):\n",
    "            (i,j) = k_to_i2j(k)\n",
    "            mat[i,j] = d[k]\n",
    "            mat[j,i] = -d[k]\n",
    "    return mat\n",
    "\n",
    "def mat_2_d1(mat):\n",
    "    \n",
    "    (n,_) = np.shape(mat)\n",
    "    n-=1\n",
    "    k_max = int(n*(n-1)/2 + n)\n",
    "    liste = []\n",
    "    for k in range(k_max):\n",
    "        (i,j) = k_to_i2j(k)\n",
    "        liste.append(mat[k_to_i2j(k)])\n",
    "        \n",
    "    return np.array(liste)\n",
    "\n",
    "\n",
    "\n",
    "def d1_2_mat_list(d, n_Item):\n",
    "    \n",
    "    item_list = np.reshape(np.array(d), (n_Item, -1))\n",
    "    l = len(item_list[0])\n",
    "    \n",
    "    (n, _) = k_to_i2j(l)\n",
    "\n",
    "    mat = np.zeros([n_Item,n,n])\n",
    "    \n",
    "    for it in range(n_Item):\n",
    "\n",
    "        for k in range(l):\n",
    "                (i,j) = k_to_i2j(k)\n",
    "                mat[it,i,j] = item_list[it,k]\n",
    "                mat[it,j,i] = -item_list[it,k]\n",
    "    return mat\n",
    "\n",
    "def mat_2_d1_list(mat):\n",
    "    \n",
    "    liste_totale = []\n",
    "    (n_item, n,_) = np.shape(mat)\n",
    "    n-=1\n",
    "    k_max = int(n*(n-1)/2 + n)\n",
    "    for it in range(n_item):\n",
    "        liste = []\n",
    "        for k in range(k_max):\n",
    "            (i,j) = k_to_i2j(k)\n",
    "            liste.append(mat[it,i,j])\n",
    "            \n",
    "        liste_totale+= liste\n",
    "\n",
    "    return np.array(liste_totale)\n",
    "\n",
    "\n",
    "    "
   ]
  },
  {
   "cell_type": "code",
   "execution_count": 3,
   "metadata": {},
   "outputs": [],
   "source": [
    "def detection_cooperation_A(env, id_agent_source, last_offer): #ratio other agent gave / what I could give\n",
    "    n_agents = env.n_agents\n",
    "    agent = env.agents[id_agent_source]\n",
    "    history = env.transactions_history_numpy\n",
    "    if len(history) < 2:\n",
    "        return np.zeros(n_agents)\n",
    "    else:\n",
    "        #print(history[-2])\n",
    "        last_trans = history[-2].sum(1) #what each agent gave\n",
    "        #last_offer = agent.last_offers[-1]\n",
    "        my_offer_max = np.sum(np.maximum(last_offer,0))\n",
    "        \n",
    "        #print(\"last_trans\", last_trans)\n",
    "        \n",
    "        coop_degrees = np.clip(last_trans/my_offer_max,0,1)\n",
    "    \n",
    "        return coop_degrees\n",
    "        \n",
    "        "
   ]
  },
  {
   "cell_type": "code",
   "execution_count": 4,
   "metadata": {},
   "outputs": [],
   "source": [
    "def detection_cooperation_B(env, id_agent_source, last_offer): #ratio other agent gave ME * (N_agent-1) / what I could give\n",
    "    n_agents = env.n_agents\n",
    "    agent = env.agents[id_agent_source]\n",
    "    history = env.transactions_history_numpy\n",
    "    if len(history) < 2:\n",
    "        return np.zeros(n_agents)\n",
    "    else:\n",
    "        #print(history[-2])\n",
    "        last_trans = history[-2][:,id_agent_source]*(n_agents-1) #what each agent gave\n",
    "        #last_offer = agent.last_offers[-1]\n",
    "        my_offer_max = np.sum(np.maximum(last_offer,0))\n",
    "        \n",
    "        #print(\"last_trans\", last_trans)\n",
    "        \n",
    "        coop_degrees = np.clip(last_trans/my_offer_max,0,1)\n",
    "    \n",
    "        return coop_degrees"
   ]
  },
  {
   "cell_type": "code",
   "execution_count": 5,
   "metadata": {},
   "outputs": [],
   "source": [
    "def TFT(alpha, r, beta=0):\n",
    "    def function(old_coop_degrees, detected_coop_degrees, r):\n",
    "        delta = detected_coop_degrees - old_coop_degrees\n",
    "        r = np.maximum(r + beta*delta,0)\n",
    "        output = alpha*old_coop_degrees + (1-alpha)*(r + (1-r)*detected_coop_degrees)        \n",
    "        return output, r\n",
    "        \n",
    "    return function, r\n",
    "        "
   ]
  },
  {
   "cell_type": "code",
   "execution_count": 6,
   "metadata": {},
   "outputs": [],
   "source": [
    "algo2 = TFT(0.1,0.2,0.7)\n",
    "algo1 = TFT(0.2,0.1,0.6)\n",
    "egoist = TFT(1,0,0.5)"
   ]
  },
  {
   "cell_type": "code",
   "execution_count": 7,
   "metadata": {},
   "outputs": [],
   "source": [
    "class Agent:\n",
    "    def __init__(self, id_agent, n_agents, n_items, neg_algo=0):\n",
    "        self.n_agents = n_agents\n",
    "        self.n_items = n_items\n",
    "        self.id_agent = id_agent\n",
    "        self.old_coop_degrees = np.zeros(self.n_agents)\n",
    "        self.ut_function = []\n",
    "        self.last_offers = []\n",
    "        tft_algo, r = neg_algo\n",
    "        self.negociation_algo =  tft_algo\n",
    "        self.r = r*np.ones(self.n_agents)\n",
    "        \n",
    "    def coop_detection(self, env):\n",
    "        n_agents = env.n_agents\n",
    "        id_agent_source = self.id_agent\n",
    "        if len(self.last_offers) == 0:\n",
    "            return np.zeros(n_agents)\n",
    "            #print(\"non last offers\")\n",
    "        else:\n",
    "            #print(\"presence last offers\")\n",
    "            last_offer = self.last_offers[-1]\n",
    "            output = detection_cooperation_B(env, id_agent_source, last_offer)\n",
    "            return output \n",
    "        \n",
    "    def offer(self, env):\n",
    "        tran= env.optimize_localy(self.id_agent)\n",
    "        self.last_offers.append(tran)\n",
    "        return tran\n",
    "    \n",
    "    def negociation(self, detected_coop_degrees):\n",
    "        output, r_new = self.negociation_algo(self.old_coop_degrees, detected_coop_degrees, self.r)\n",
    "        self.r = r_new\n",
    "        self.old_coop_degrees = output\n",
    "        return output\n",
    "        \n",
    "        "
   ]
  },
  {
   "cell_type": "code",
   "execution_count": 8,
   "metadata": {},
   "outputs": [],
   "source": [
    "algo2 = TFT(0.1,0.2,0.7)\n",
    "algo1 = TFT(0.2,0.1,0.6)\n",
    "egoist = TFT(1,0,0.5)\n",
    "\n",
    "n_A = 3\n",
    "n_I = 3\n",
    "a1 = Agent(0, n_A, n_I, algo1)\n",
    "a2 = Agent(1, n_A, n_I, algo1)\n",
    "a3 = Agent(2, n_A, n_I, algo1)\n",
    "#a4 = Agent(3, n_A, n_I, algo1)\n",
    "\n",
    "liste_agents_A = [a1, a2, a3]\n"
   ]
  },
  {
   "cell_type": "code",
   "execution_count": 9,
   "metadata": {},
   "outputs": [],
   "source": [
    "class Environment:\n",
    "    def __init__(self, n_agents, n_items, list_agents = []):\n",
    "        self.n_agents = n_agents\n",
    "        self.agents = list_agents\n",
    "        self.n_items = n_items\n",
    "        self.t = 0 #step \n",
    "        self.state = np.zeros([n_agents, n_items])\n",
    "        self.states_history = [] #history of states\n",
    "        self.transactions_history = []\n",
    "        self.transactions_history_numpy = []\n",
    "        \n",
    "        self.optimal_SW = 0 #optimal social welfare \n",
    "        self.hist_SW = [] #evolution of social welfare\n",
    "        self.hist_ut_agents = [[] for _ in range(self.n_agents)] #evolution of utilities of agents \n",
    "        \n",
    "        self.hist_coop_degrees = [] #evolution of cooperation degrees\n",
    "        \n",
    "        \n",
    "    def init_state(self, state):\n",
    "        s = np.copy(state)\n",
    "        self.state = s\n",
    "        self.t = 0\n",
    "        \n",
    "    def next_round(self):\n",
    "        self.t += 1\n",
    "        self.transactions_history.append([])\n",
    "        self.transactions_history_numpy.append(np.zeros([env.n_agents, env.n_agents]))\n",
    "        \n",
    "    def replace_agents(self, list_agents):\n",
    "        self.agents = list_agents\n",
    "        \n",
    "    def clip_state(self, lb, ub):\n",
    "        self.state = np.clip(self.state, lb, ub)\n",
    "    \n",
    "    def random_init(self, mean=0, std=1):\n",
    "        self.state = np.random.normal(mean, std, size = [self.n_agents, self.n_items])\n",
    "        \n",
    "    def transaction(self, id_agent_source, id_agent_target, id_item, quantity):\n",
    "        self.state[id_agent_target, id_item] += quantity\n",
    "        self.state[id_agent_source, id_item] -= quantity\n",
    "        \n",
    "        self.transactions_history[-1].append((env.t, id_agent_source, id_agent_target, id_item, quantity))\n",
    "        \n",
    "        #update quantities shared between agents (independently of items)\n",
    "        self.transactions_history_numpy[-1][id_agent_source, id_agent_target] += quantity\n",
    "        \n",
    "        \n",
    "        \n",
    "    def add_transactions_np(self, state, transactions):\n",
    "        #state : array nA x nI\n",
    "        #transactions : array nI x nA x nA\n",
    "\n",
    "        (nA, nI) = np.shape(state)\n",
    "        new_s = state.copy()\n",
    "        for item in range(nI):\n",
    "            for agent in range(nA):\n",
    "                new_s[agent, item] -= transactions[item, agent, : ].sum()\n",
    "\n",
    "        return new_s\n",
    "    \n",
    "    def add_transactions_var(self, state, trans_var):\n",
    "        #state : array nA x nI\n",
    "        #trans_var : variable for optimisation, liste\n",
    "        transactions = d1_2_mat_list(trans_var, self.n_items)\n",
    "        return self.add_transactions_np(state, transactions)\n",
    "    \n",
    "\n",
    "    def global_utility(self, state, lb =-2.0, ub = 100.0):\n",
    "        s = np.copy(state)\n",
    "        s = np.clip(s, lb, ub)\n",
    "        return -np.log(s+2+1e-8).sum()\n",
    "    \n",
    "    def local_utility(self, state, id_agent):\n",
    "        s = np.copy(state)\n",
    "        s = s[id_agent,:]\n",
    "        s = np.clip(s, -2, 100)\n",
    "        return -np.log(s+2+1e-8).sum()\n",
    "    \n",
    "    def optimize_localy(self, id_agent, lb = -4, ub = 4, min_cons = -1):\n",
    "        (nA, nI) = self.n_agents, self.n_items\n",
    "        size_var = nI #size of variable \n",
    "        lb_list = lb*np.ones(size_var) #lower bounds\n",
    "        ub_list = ub*np.ones(size_var) #upper bounds\n",
    "        \n",
    "        s_tmp = np.copy(self.state)\n",
    "        \n",
    "        def f_opt(dx): #utility function for pso\n",
    "            s = np.copy(s_tmp)\n",
    "            s[id_agent, :] += dx\n",
    "            return self.local_utility(s, id_agent) + 0.01 * np.linalg.norm(dx)\n",
    "            \n",
    "        def constraint(dx):\n",
    "            s = np.copy(s_tmp)\n",
    "            s[id_agent, :] += dx       \n",
    "            s = s[id_agent]        \n",
    "            const_out1 = s-min_cons\n",
    "            const_out2 = np.array([-dx.sum()])\n",
    "            const_out = np.concatenate((const_out1,const_out2))\n",
    "\n",
    "            return const_out\n",
    "        \n",
    "        xopt, fopt = pso(f_opt, f_ieqcons= constraint, lb=lb_list, ub=ub_list, maxiter=200, swarmsize=200)\n",
    "        \n",
    "        return(xopt)\n",
    "    \n",
    "    \n",
    "    def optimize_globably(self, lb = -2.0, ub = 2.0):\n",
    "        (nA, nI) = self.n_agents, self.n_items\n",
    "        k_max = nI * ( int((nA-1)*(nA-2)/2 + nA-1)  )\n",
    "        d_var = np.zeros(k_max)\n",
    "        lb_list = lb*np.ones(k_max)\n",
    "        ub_list = ub*np.ones(k_max)\n",
    "        \n",
    "        s = self.state.copy()\n",
    "        \n",
    "        def f_opt(dx):\n",
    "            \n",
    "            trans_var_np = d1_2_mat_list(dx, self.n_items)\n",
    "            new_s_tmp = self.add_transactions_np(s, trans_var_np)\n",
    "            \n",
    "            fusion_items = trans_var_np.sum(0)\n",
    "            received_agents = fusion_items.sum(1)\n",
    "            \n",
    "            return self.global_utility(new_s_tmp) + 0.1*np.linalg.norm(received_agents) + 0.1 * np.linalg.norm(dx) \n",
    "    \n",
    "        def constraint(dx):\n",
    "            \n",
    "            trans_var_np = d1_2_mat_list(dx, self.n_items)\n",
    "            new_s_tmp = self.add_transactions_np(s, trans_var_np)\n",
    "            \n",
    "            const_out = new_s_tmp - min_cons\n",
    "            #const_out2 = np.array([-dx.sum()])\n",
    "            #const_out = np.concatenate((const_out1,const_out2))\n",
    "\n",
    "            return const_out\n",
    "    \n",
    "    \n",
    "        xopt, fopt = pso(f_opt, lb_list, ub_list, maxiter=300, swarmsize=300)\n",
    "        \n",
    "        transactions = d1_2_mat_list(xopt, self.n_items)\n",
    "        new_s = self.add_transactions_np(s, transactions)\n",
    "        #print(new_s)\n",
    "        \n",
    "        return(transactions, new_s, env.global_utility(new_s))\n",
    "        \n",
    "    def optimal_social_welfare(self):\n",
    "        (transactions, new_s, fopt) = self.optimize_globably()\n",
    "        self.optimal_SW = fopt\n",
    "        return fopt\n",
    "        \n",
    "    def get_observation(self, id_agent):\n",
    "        return self.state[id_agent, :]\n",
    "    \n",
    "    \n",
    "    def allocation(self, coop_degrees, demands):\n",
    "        \n",
    "        demands_agents = np.maximum(demands,0)\n",
    "        offers_agents = -np.minimum(demands,0)\n",
    "        \n",
    "        for it in range(self.n_items):\n",
    "            for agent_source in range(self.n_agents):\n",
    "                of_source = offers_agents[agent_source, it]\n",
    "                \n",
    "                if of_source > 0: #agent_source can give of_source for item it\n",
    "\n",
    "                    demands_targets = np.zeros([self.n_agents])\n",
    "                    parts_targets = np.zeros([self.n_agents])  \n",
    "                    \n",
    "                    for agent_target in range(self.n_agents):\n",
    "                        dem_target = demands_agents[agent_target, it] #demand of agent_target if < 0\n",
    "                        dem_target_clip = min(dem_target, of_source)\n",
    "                        demands_targets[agent_target] = dem_target_clip\n",
    "                        parts_targets[agent_target] = dem_target_clip\n",
    "                        \n",
    "                    total_demand = demands_targets.sum()\n",
    "\n",
    "                    for agent_target in range(self.n_agents):\n",
    "                        alloc = demands_targets[agent_target]*coop_degrees[agent_source, agent_target]*of_source \n",
    "                        \n",
    "                        if total_demand != 0:\n",
    "                            alloc/= total_demand\n",
    "                        alloc = min(alloc,of_source)\n",
    "                        \n",
    "                        self.transaction(agent_source, agent_target, it, alloc)\n",
    "                    \n",
    "    \n",
    "    def show(self):\n",
    "        fig, axs = plt.subplots(1,self.n_agents)\n",
    "        for i in range(self.n_agents):\n",
    "            axs[i].bar(np.arange(self.n_items),self.get_observation(i), orientation = 'vertical')\n",
    "            axs[i].axis('equal')\n",
    "            axs[i].set_title(\"Agent \"+str(i+1))\n",
    "            axs[i].set_ylim([-1,1])\n",
    "            \n",
    "           \n",
    "    \n",
    "#env = Environment(3,4, liste_agents_A)     "
   ]
  },
  {
   "cell_type": "code",
   "execution_count": null,
   "metadata": {},
   "outputs": [],
   "source": []
  },
  {
   "cell_type": "code",
   "execution_count": 10,
   "metadata": {},
   "outputs": [],
   "source": [
    "state_B = np.array([\n",
    "    [-1.0,2.0,0.0,1.0],\n",
    "    [3.0,1.0,-1.0,1.0],\n",
    "    [1.0,-1.0,3.0,1.0],\n",
    "    \n",
    "])\n",
    "\n",
    "\n",
    "state_C = np.array([\n",
    "    [0.0,2.0,0.0,1.0,-1.0,1.0],\n",
    "    [2.0,2.0,-1.0,1.0,-1.0,0.0],\n",
    "    [1.0,-1.0,1.0,-1.0,2.0,1.0],\n",
    "    \n",
    "])\n",
    "\n",
    "\n",
    "state_D = np.array([\n",
    "    [-1.0,1.0,0.0,1.0,-1.0,1.0],\n",
    "    [-1.0,1.0,-1.0,1.0,-1.0,0.0],\n",
    "    [1.0,-1.0,1.0,-1.0,1.0,1.0],\n",
    "    [-1.0,0,1.0,-1.0,-1.0,1.0],\n",
    "    \n",
    "])\n",
    "\n",
    "state_E = np.array([[-1.,  2.,  2.],\n",
    "       [ 2.,  2., -1.],\n",
    "       [ 2., -1.,  2.]])"
   ]
  },
  {
   "cell_type": "code",
   "execution_count": 11,
   "metadata": {},
   "outputs": [
    {
     "data": {
      "image/png": "[encoded data removed]",
      "text/plain": [
       "<Figure size 432x288 with 3 Axes>"
      ]
     },
     "metadata": {
      "needs_background": "light"
     },
     "output_type": "display_data"
    }
   ],
   "source": [
    "env = Environment(3,3, liste_agents_A) \n",
    "env.init_state(state_E)\n",
    "\n",
    "#env.init_state(new_s)\n",
    "env.show()"
   ]
  },
  {
   "cell_type": "code",
   "execution_count": 12,
   "metadata": {},
   "outputs": [
    {
     "name": "stdout",
     "output_type": "stream",
     "text": [
      "[]\n"
     ]
    },
    {
     "data": {
      "image/png": "[encoded data removed]",
      "text/plain": [
       "<Figure size 432x288 with 3 Axes>"
      ]
     },
     "metadata": {
      "needs_background": "light"
     },
     "output_type": "display_data"
    }
   ],
   "source": [
    "#env.init_state(new_s)\n",
    "env.show()\n",
    "print(env.hist_SW)"
   ]
  },
  {
   "cell_type": "code",
   "execution_count": 13,
   "metadata": {},
   "outputs": [],
   "source": [
    "def episode(env):\n",
    "    n_agents = env.n_agents\n",
    "    n_items = env.n_items\n",
    "    opt_sw = env.optimal_social_welfare()\n",
    "    env.next_round()\n",
    "    \n",
    "    env.states_history.append(env.state)\n",
    "    current_SW = env.global_utility(env.state)\n",
    "    env.hist_SW.append(current_SW)\n",
    "    \n",
    "    for i_A in range(n_agents):\n",
    "        uti_agent = env.local_utility(env.state, i_A)\n",
    "        env.hist_ut_agents[i_A].append(uti_agent)\n",
    "    \n",
    "    env.show()\n",
    "\n",
    "        \n",
    "    \n",
    "    demands = np.zeros([n_agents, n_items])\n",
    "    \n",
    "    \n",
    "    coop_degrees = np.zeros([n_agents, n_agents])\n",
    "    \n",
    "    for i_agent in range(n_agents):\n",
    "        transa = env.agents[i_agent].offer(env)\n",
    "        env.agents[i_agent].last_offers.append(transa)\n",
    "        #print(transa)\n",
    "        \n",
    "        print(\"Agent \",i_agent)\n",
    "        coop_deg_detected = env.agents[i_agent].coop_detection(env)\n",
    "        print(\"coop deg detected \", coop_deg_detected)\n",
    "        \n",
    "        coop_deg_i = env.agents[i_agent].negociation(coop_deg_detected)\n",
    "        print(\"coop deg negociated \", coop_deg_i)\n",
    "        print()\n",
    "        \n",
    "        \n",
    "        demands[i_agent, : ] = transa\n",
    "        coop_degrees[i_agent,:] = coop_deg_i\n",
    "        \n",
    "    coop_degrees = np.clip(coop_degrees,0,1)\n",
    "    \n",
    "    print(coop_degrees)\n",
    "    env.hist_coop_degrees.append(coop_degrees)\n",
    "    \n",
    "    \n",
    "    env.allocation(coop_degrees, demands)\n",
    "    #print(np.sum(env.state, axis=1))\n",
    "\n"
   ]
  },
  {
   "cell_type": "code",
   "execution_count": 14,
   "metadata": {},
   "outputs": [],
   "source": [
    "def mean_coop_degrees(matrix_list):\n",
    "    if matrix_list == []:\n",
    "        return []\n",
    "    else:\n",
    "        (n_A,_) = np.shape(matrix_list[0])\n",
    "        output = [ [[] for _ in range(n_A)], [[] for _ in range(n_A)] ]  #curves for mean receiving AND sending coop degree \n",
    "        for coop_degrees_mat in matrix_list:\n",
    "            rece_coop = coop_degrees_mat.sum(0)\n",
    "            send_coop = coop_degrees_mat.sum(1)\n",
    "            for i_A in range(n_A):\n",
    "                mean_rece = (rece_coop[i_A] - coop_degrees_mat[i_A,i_A])/(n_A-1)\n",
    "                output[0][i_A].append(mean_rece)    #receiving coop degree mean for agent i_A\n",
    "\n",
    "                mean_send = (send_coop[i_A] - coop_degrees_mat[i_A,i_A])/(n_A-1)\n",
    "                output[1][i_A].append(mean_send)    #receiving coop degree mean for agent i_A\n",
    "\n",
    "        return output"
   ]
  },
  {
   "cell_type": "code",
   "execution_count": null,
   "metadata": {},
   "outputs": [],
   "source": []
  },
  {
   "cell_type": "code",
   "execution_count": 15,
   "metadata": {},
   "outputs": [],
   "source": [
    "def figure_utilities(sw, list_ut, output_fig, max_t, lu=2,uu=4):\n",
    "    colors = ['b','m','c','r']\n",
    "    t_max = min(len(sw), max_t)\n",
    "    t = np.arange(t_max)\n",
    "    \n",
    "    fig, ax1 = plt.subplots()\n",
    "\n",
    "    color = 'b'\n",
    "    ax1.set_xlabel('Rounds', fontsize = 14)\n",
    "    ax1.set_ylabel('Social Welfare', color='g', fontsize = 14)\n",
    "    ax1.plot(t, sw[:t_max], color='g', label=\"Social Welfare\")\n",
    "    ax1.tick_params(axis='y', labelcolor='g', labelsize = 14)\n",
    "    plt.legend(loc=2, fontsize=13)\n",
    "\n",
    "    ax2 = ax1.twinx()  \n",
    "    ax2.set_ylabel('Individual Utility', color=color, fontsize = 14) \n",
    "    ax2.set_ylim(lu, uu)\n",
    "    ax2.tick_params(axis='y', labelcolor=color, labelsize = 14)\n",
    "    ax1.tick_params(axis='x', labelsize = 14)\n",
    "\n",
    "\n",
    "\n",
    "    for i_A in range(len(list_ut)):\n",
    "        color = colors[i_A]\n",
    "        label = \"Agent \"+str(i_A+1)\n",
    "        if i_A == 5:\n",
    "            label = \"Egoist\"\n",
    "        ax2.plot(t, list_ut[i_A][:t_max], color=color, label=label)\n",
    "    \n",
    "    plt.legend(loc=4, fontsize=13)\n",
    "        \n",
    "    fig.tight_layout() # otherwise the right y-label is slightly clipped\n",
    "    fig.savefig(output_fig)\n",
    "    plt.show()"
   ]
  },
  {
   "cell_type": "code",
   "execution_count": 16,
   "metadata": {},
   "outputs": [],
   "source": [
    "def figure_coop_degrees_mean(list_coop, output_fig, max_t, lc=0 ,uc=1):\n",
    "    colors = ['b','m','c','g','r']\n",
    "    \n",
    "    t_max = min(len(list_coop[0][0]), max_t)\n",
    "    t = np.arange(t_max)\n",
    "\n",
    "    fig, ax1 = plt.subplots()\n",
    "\n",
    "    color = 'b'\n",
    "    ax1.set_xlabel('Rounds', fontsize=14)\n",
    "    ax1.set_ylabel('Mean Cooperation Degree',fontsize=14)\n",
    "\n",
    "    ax1.set_ylim(lc, uc)\n",
    "\n",
    "    ax1.tick_params(axis='y', labelsize=14)\n",
    "    ax1.tick_params(axis='x', labelsize=14)\n",
    "    \n",
    "\n",
    "\n",
    "    for i_A in range(len(list_coop[0])):\n",
    "        color = colors[i_A]\n",
    "        if i_A != 5:\n",
    "            label = \"Agent \"+str(i_A+1)\n",
    "        else:\n",
    "            label = \"Egoist\"\n",
    "        ax1.plot(t, list_coop[0][i_A][:t_max], color, label = label + \" : receiving\")\n",
    "        ax1.plot(t, list_coop[1][i_A][:t_max], color+\"--\", label = label + \" : sending\")\n",
    "        plt.legend(loc=4,fontsize=13)\n",
    "        \n",
    "    fig.tight_layout() # otherwise the right y-label is slightly clipped\n",
    "    fig.savefig(output_fig)\n",
    "    plt.show()"
   ]
  },
  {
   "cell_type": "code",
   "execution_count": 17,
   "metadata": {},
   "outputs": [],
   "source": [
    "def affiche(env, output,lu,uu,lc,uc):\n",
    "    yA = env.hist_ut_agents[0]\n",
    "    yB = env.hist_ut_agents[1]\n",
    "    yC = env.hist_ut_agents[2]\n",
    "    #yD = env.hist_ut_agents[3]\n",
    "    y = env.hist_SW\n",
    "\n",
    "    yA = [-x for x in yA]\n",
    "    yB = [-x for x in yB]\n",
    "    yC = [-x for x in yC]\n",
    "    #yD = [-x for x in yD]\n",
    "    y = [-x for x in y]\n",
    "    \n",
    "    mean_coop_degrees_expe = mean_coop_degrees(env.hist_coop_degrees)\n",
    "    \n",
    "    figure_utilities(y, [yA,yB,yC],'evolution_utilities_'+output+'.svg',10, lu, uu)\n",
    "    \n",
    "    figure_coop_degrees_mean(mean_coop_degrees_expe, 'evolution_cooperation_'+output+'.svg',10, lc, uc)\n",
    "    "
   ]
  },
  {
   "cell_type": "code",
   "execution_count": 18,
   "metadata": {},
   "outputs": [],
   "source": [
    "env = Environment(3,3, liste_agents_A)\n",
    "env.init_state(state_E)\n"
   ]
  },
  {
   "cell_type": "code",
   "execution_count": 19,
   "metadata": {},
   "outputs": [],
   "source": [
    "def effiency(list_SW, SWopt):\n",
    "    SW0 = list_SW[0]\n",
    "    output = []\n",
    "    \n",
    "    for sw in list_SW:\n",
    "        e = min((-sw+SW0)/(-SWopt+SW0),1)\n",
    "        output.append(e)\n",
    "        \n",
    "    return output\n",
    "    "
   ]
  },
  {
   "cell_type": "code",
   "execution_count": 20,
   "metadata": {},
   "outputs": [],
   "source": [
    "from sklearn import metrics\n",
    "\n",
    "def speed(list_eff, T):\n",
    "    final_efficiency = list_eff[-1]\n",
    "    x = np.arange(T)    \n",
    "    return metrics.auc(x, list_eff[:T])/(T*final_efficiency)"
   ]
  },
  {
   "cell_type": "code",
   "execution_count": 21,
   "metadata": {},
   "outputs": [],
   "source": [
    "def analyse(state, beta, r, alpha, N_iter=10):\n",
    "    algo = TFT(beta,r,alpha)\n",
    "    egoist = TFT(1,0,0.5)\n",
    "\n",
    "    n_A, n_I = np.shape(state)\n",
    "    \n",
    "    T_speed = 10\n",
    "    \n",
    "    T_speed = min(T_speed, N_iter)\n",
    "\n",
    "    \n",
    "    a1 = Agent(0, n_A, n_I, algo)\n",
    "    a2 = Agent(1, n_A, n_I, algo)\n",
    "    a3 = Agent(2, n_A, n_I, algo)\n",
    "\n",
    "    b1 = Agent(0, n_A, n_I, algo)\n",
    "    b2 = Agent(1, n_A, n_I, algo)\n",
    "    b3 = Agent(2, n_A, n_I, egoist)\n",
    "    \n",
    "    c1 = Agent(0, n_A, n_I, algo)\n",
    "    c2 = Agent(1, n_A, n_I, egoist)\n",
    "    c3 = Agent(2, n_A, n_I, egoist)\n",
    "\n",
    "    liste_agents_A = [a1, a2, a3]\n",
    "    liste_agents_B = [b1, b2, b3]\n",
    "    liste_agents_C = [c1, c2, c3]\n",
    "    \n",
    "    envA = Environment(n_A,n_I, liste_agents_A)\n",
    "    envA.init_state(state_E)\n",
    "    \n",
    "    envB = Environment(n_A,n_I, liste_agents_B)\n",
    "    envB.init_state(state_E)\n",
    "    \n",
    "    envC = Environment(n_A,n_I, liste_agents_C)\n",
    "    envC.init_state(state_E)\n",
    "    \n",
    "    tra, ns, swopt = envA.optimize_globably()\n",
    "    \n",
    "    \n",
    "    for i_ep in range(N_iter):\n",
    "        print(\"Env A, episode \", i_ep)\n",
    "        episode(envA)\n",
    "        \n",
    "    for i_ep in range(N_iter):\n",
    "        print(\"Env B, episode \", i_ep)\n",
    "        episode(envB)\n",
    "        \n",
    "    for i_ep in range(N_iter):\n",
    "        print(\"Env C, episode \", i_ep)\n",
    "        episode(envC)\n",
    "        \n",
    "    \n",
    "    effic = effiency(envA.hist_SW, swopt)\n",
    "    \n",
    "    ef = effic[-1]\n",
    "\n",
    "    sp = speed(effic, T_speed)\n",
    "    \n",
    "    ut_max_pers_nices = -1*envA.hist_ut_agents[2][-1] #positive\n",
    "    ut_pers_3egoist = -1*envA.hist_ut_agents[0][0] #positive  \n",
    "    ut_pers_1egoist = -1*envB.hist_ut_agents[2][-1] #positive\n",
    "    ut_pers_2egoist = -1*envC.hist_ut_agents[0][-1] #positive\n",
    "\n",
    "    \n",
    "    print(ut_max_pers_nices, ut_pers_1egoist, ut_pers_2egoist, ut_pers_3egoist)\n",
    "    \n",
    "    ic = (ut_max_pers_nices-ut_pers_1egoist)/ut_max_pers_nices\n",
    "    sf = (ut_pers_2egoist-ut_pers_3egoist)\n",
    "    \n",
    "    \n",
    "    \n",
    "    return [[beta, r, alpha],[envA, envB, envC], ef, sp, ut_max_pers_nices, ut_pers_1egoist, ut_pers_2egoist, ut_pers_3egoist]\n",
    "    \n",
    "    \n",
    "    \n",
    "    "
   ]
  },
  {
   "cell_type": "code",
   "execution_count": 22,
   "metadata": {},
   "outputs": [
    {
     "name": "stdout",
     "output_type": "stream",
     "text": [
      "Stopping search: Swarm best objective change less than 1e-08\n",
      "Env A, episode  0\n",
      "Stopping search: Swarm best objective change less than 1e-08\n",
      "Stopping search: Swarm best objective change less than 1e-08\n",
      "Agent  0\n",
      "coop deg detected  [0. 0. 0.]\n",
      "coop deg negociated  [0.09 0.09 0.09]\n",
      "\n",
      "Stopping search: Swarm best objective change less than 1e-08\n",
      "Agent  1\n",
      "coop deg detected  [0. 0. 0.]\n",
      "coop deg negociated  [0.09 0.09 0.09]\n",
      "\n",
      "Stopping search: Swarm best objective change less than 1e-08\n",
      "Agent  2\n",
      "coop deg detected  [0. 0. 0.]\n",
      "coop deg negociated  [0.09 0.09 0.09]\n",
      "\n",
      "[[0.09 0.09 0.09]\n",
      " [0.09 0.09 0.09]\n",
      " [0.09 0.09 0.09]]\n",
      "Env A, episode  1\n",
      "Stopping search: Swarm best objective change less than 1e-08\n",
      "Stopping search: Swarm best objective change less than 1e-08\n",
      "Agent  0\n",
      "coop deg detected  [0.         0.10040622 0.09997061]\n",
      "coop deg negociated  [0.099      0.18032904 0.1799762 ]\n",
      "\n",
      "Stopping search: Swarm best objective change less than 1e-08\n",
      "Agent  1\n",
      "coop deg detected  [0.09829865 0.         0.09942093]\n",
      "coop deg negociated  [0.17862191 0.099      0.17953095]\n",
      "\n",
      "Stopping search: Swarm best objective change less than 1e-08\n",
      "Agent  2\n",
      "coop deg detected  [0.09976301 0.09842405 0.        ]\n",
      "coop deg negociated  [0.17980804 0.17872348 0.099     ]\n",
      "\n",
      "[[0.099      0.18032904 0.1799762 ]\n",
      " [0.17862191 0.099      0.17953095]\n",
      " [0.17980804 0.17872348 0.099     ]]\n",
      "Env A, episode  2\n",
      "Stopping search: Swarm best objective change less than 1e-08\n",
      "Stopping search: Swarm best objective change less than 1e-08\n",
      "Agent  0\n",
      "coop deg detected  [0.         0.22309834 0.21829362]\n",
      "coop deg negociated  [0.0999     0.28874256 0.28481545]\n",
      "\n",
      "Stopping search: Swarm best objective change less than 1e-08\n",
      "Agent  1\n",
      "coop deg detected  [0.21584373 0.         0.21447166]\n",
      "coop deg negociated  [0.28269561 0.0999     0.28167514]\n",
      "\n",
      "Stopping search: Swarm best objective change less than 1e-08\n",
      "Agent  2\n",
      "coop deg detected  [0.2148154  0.21215331 0.        ]\n",
      "coop deg negociated  [0.28198128 0.27971653 0.0999    ]\n",
      "\n",
      "[[0.0999     0.28874256 0.28481545]\n",
      " [0.28269561 0.0999     0.28167514]\n",
      " [0.28198128 0.27971653 0.0999    ]]\n",
      "Env A, episode  3\n",
      "Stopping search: Swarm best objective change less than 1e-08\n",
      "Stopping search: Swarm best objective change less than 1e-08\n",
      "Agent  0\n",
      "coop deg detected  [0.         0.39745185 0.38000134]\n",
      "coop deg negociated  [0.09999    0.44081025 0.42628263]\n",
      "\n",
      "Stopping search: Swarm best objective change less than 1e-08\n",
      "Agent  1\n",
      "coop deg detected  [0.39422266 0.         0.39848309]\n",
      "coop deg negociated  [0.43758991 0.09999    0.44093882]\n",
      "\n",
      "Stopping search: Swarm best objective change less than 1e-08\n",
      "Agent  2\n",
      "coop deg detected  [0.42500159 0.3824798  0.        ]\n",
      "coop deg negociated  [0.46244942 0.42778029 0.09999   ]\n",
      "\n",
      "[[0.09999    0.44081025 0.42628263]\n",
      " [0.43758991 0.09999    0.44093882]\n",
      " [0.46244942 0.42778029 0.09999   ]]\n",
      "Env A, episode  4\n",
      "Stopping search: Swarm best objective change less than 1e-08\n",
      "Stopping search: Swarm best objective change less than 1e-08\n",
      "Agent  0\n",
      "coop deg detected  [0.         0.7160306  0.79566146]\n",
      "coop deg negociated  [0.099999   0.71406581 0.77711405]\n",
      "\n",
      "Stopping search: Swarm best objective change less than 1e-08\n",
      "Agent  1\n",
      "coop deg detected  [0.8083611  0.         0.79394537]\n",
      "coop deg negociated  [0.78853148 0.099999   0.77718964]\n",
      "\n",
      "Stopping search: Swarm best objective change less than 1e-08\n",
      "Agent  2\n",
      "coop deg detected  [0.74714501 0.82452346 0.        ]\n",
      "coop deg negociated  [0.7414324  0.80064203 0.099999  ]\n",
      "\n",
      "[[0.099999   0.71406581 0.77711405]\n",
      " [0.78853148 0.099999   0.77718964]\n",
      " [0.7414324  0.80064203 0.099999  ]]\n",
      "Env A, episode  5\n",
      "Stopping search: Swarm best objective change less than 1e-08\n",
      "Stopping search: Swarm best objective change less than 1e-08\n",
      "Agent  0\n",
      "coop deg detected  [0. 1. 1.]\n",
      "coop deg negociated  [0.0999999  0.97140658 0.9777114 ]\n",
      "\n",
      "Stopping search: Swarm best objective change less than 1e-08\n",
      "Agent  1\n",
      "coop deg detected  [1. 0. 1.]\n",
      "coop deg negociated  [0.97885315 0.0999999  0.97771896]\n",
      "\n",
      "Stopping search: Swarm best objective change less than 1e-08\n",
      "Agent  2\n",
      "coop deg detected  [1. 1. 0.]\n",
      "coop deg negociated  [0.97414324 0.9800642  0.0999999 ]\n",
      "\n",
      "[[0.0999999  0.97140658 0.9777114 ]\n",
      " [0.97885315 0.0999999  0.97771896]\n",
      " [0.97414324 0.9800642  0.0999999 ]]\n",
      "Env A, episode  6\n",
      "Stopping search: Swarm best objective change less than 1e-08\n",
      "Stopping search: Swarm best objective change less than 1e-08\n",
      "Agent  0\n",
      "coop deg detected  [0. 1. 1.]\n",
      "coop deg negociated  [0.09999999 0.99714066 0.99777114]\n",
      "\n",
      "Stopping search: Swarm best objective change less than 1e-08\n",
      "Agent  1\n",
      "coop deg detected  [1. 0. 1.]\n",
      "coop deg negociated  [0.99788531 0.09999999 0.9977719 ]\n",
      "\n",
      "Stopping search: Swarm best objective change less than 1e-08\n",
      "Agent  2\n",
      "coop deg detected  [1. 1. 0.]\n",
      "coop deg negociated  [0.99741432 0.99800642 0.09999999]\n",
      "\n",
      "[[0.09999999 0.99714066 0.99777114]\n",
      " [0.99788531 0.09999999 0.9977719 ]\n",
      " [0.99741432 0.99800642 0.09999999]]\n",
      "Env A, episode  7\n",
      "Stopping search: Swarm best objective change less than 1e-08\n",
      "Stopping search: Swarm best objective change less than 1e-08\n",
      "Agent  0\n",
      "coop deg detected  [0.         0.99506294 1.        ]\n",
      "coop deg negociated  [0.1        0.99571505 0.99977711]\n",
      "\n",
      "Stopping search: Swarm best objective change less than 1e-08\n",
      "Agent  1\n",
      "coop deg detected  [0.13487566 0.         1.        ]\n",
      "coop deg negociated  [0.29903782 0.1        0.99977719]\n",
      "\n",
      "Stopping search: Swarm best objective change less than 1e-08\n",
      "Agent  2\n",
      "coop deg detected  [0.73045787 1.         0.        ]\n",
      "coop deg negociated  [0.78141231 0.99980064 0.1       ]\n",
      "\n",
      "[[0.1        0.99571505 0.99977711]\n",
      " [0.29903782 0.1        0.99977719]\n",
      " [0.78141231 0.99980064 0.1       ]]\n",
      "Env A, episode  8\n",
      "Stopping search: Swarm best objective change less than 1e-08\n",
      "Stopping search: Swarm best objective change less than 1e-08\n",
      "Agent  0\n",
      "coop deg detected  [0.         0.27641679 0.        ]\n",
      "coop deg negociated  [0.1        0.41346911 0.18997771]\n",
      "\n",
      "Stopping search: Swarm best objective change less than 1e-08\n",
      "Agent  1\n",
      "coop deg detected  [1. 0. 1.]\n",
      "coop deg negociated  [0.92990378 0.1        0.99997772]\n",
      "\n",
      "Stopping search: Swarm best objective change less than 1e-08\n",
      "Agent  2\n",
      "coop deg detected  [0.87094653 1.         0.        ]\n",
      "coop deg negociated  [0.87360792 0.99998006 0.1       ]\n",
      "\n",
      "[[0.1        0.41346911 0.18997771]\n",
      " [0.92990378 0.1        0.99997772]\n",
      " [0.87360792 0.99998006 0.1       ]]\n",
      "Env A, episode  9\n",
      "Stopping search: Swarm best objective change less than 1e-08\n",
      "Stopping search: Swarm best objective change less than 1e-08\n",
      "Agent  0\n",
      "coop deg detected  [0. 1. 0.]\n",
      "coop deg negociated  [0.1        0.94134691 0.10899777]\n",
      "\n",
      "Stopping search: Swarm best objective change less than 1e-08\n",
      "Agent  1\n",
      "coop deg detected  [0.34024918 0.         0.2007351 ]\n",
      "coop deg negociated  [0.45859221 0.1        0.35259321]\n",
      "\n",
      "Stopping search: Swarm best objective change less than 1e-08\n",
      "Agent  2\n",
      "coop deg detected  [0.         0.64498076 0.        ]\n",
      "coop deg negociated  [0.17736079 0.71243242 0.1       ]\n",
      "\n",
      "[[0.1        0.94134691 0.10899777]\n",
      " [0.45859221 0.1        0.35259321]\n",
      " [0.17736079 0.71243242 0.1       ]]\n",
      "Env B, episode  0\n",
      "Stopping search: Swarm best objective change less than 1e-08\n",
      "Stopping search: Swarm best objective change less than 1e-08\n",
      "Agent  0\n",
      "coop deg detected  [0. 0. 0.]\n",
      "coop deg negociated  [0.09 0.09 0.09]\n",
      "\n",
      "Stopping search: Swarm best objective change less than 1e-08\n",
      "Agent  1\n",
      "coop deg detected  [0. 0. 0.]\n",
      "coop deg negociated  [0.09 0.09 0.09]\n",
      "\n",
      "Stopping search: Swarm best objective change less than 1e-08\n",
      "Agent  2\n",
      "coop deg detected  [0. 0. 0.]\n",
      "coop deg negociated  [0. 0. 0.]\n",
      "\n",
      "[[0.09 0.09 0.09]\n",
      " [0.09 0.09 0.09]\n",
      " [0.   0.   0.  ]]\n",
      "Env B, episode  1\n",
      "Stopping search: Swarm best objective change less than 1e-08\n",
      "Stopping search: Swarm best objective change less than 1e-08\n",
      "Agent  0\n",
      "coop deg detected  [0.         0.09697853 0.        ]\n",
      "coop deg negociated  [0.099      0.17755261 0.099     ]\n",
      "\n",
      "Stopping search: Swarm best objective change less than 1e-08\n",
      "Agent  1\n",
      "coop deg detected  [0.09802835 0.         0.        ]\n",
      "coop deg negociated  [0.17840296 0.099      0.099     ]\n",
      "\n",
      "Stopping search: Swarm best objective change less than 1e-08\n",
      "Agent  2\n",
      "coop deg detected  [0.0942728  0.09181146 0.        ]\n",
      "coop deg negociated  [0. 0. 0.]\n",
      "\n",
      "[[0.099      0.17755261 0.099     ]\n",
      " [0.17840296 0.099      0.099     ]\n",
      " [0.         0.         0.        ]]\n",
      "Env B, episode  2\n"
     ]
    },
    {
     "name": "stdout",
     "output_type": "stream",
     "text": [
      "Stopping search: Swarm best objective change less than 1e-08\n",
      "Stopping search: Swarm best objective change less than 1e-08\n",
      "Agent  0\n",
      "coop deg detected  [0.         0.20418934 0.        ]\n",
      "coop deg negociated  [0.0999     0.27314863 0.0999    ]\n",
      "\n",
      "Stopping search: Swarm best objective change less than 1e-08\n",
      "Agent  1\n",
      "coop deg detected  [0.19839211 0.         0.        ]\n",
      "coop deg negociated  [0.2685379 0.0999    0.0999   ]\n",
      "\n",
      "Stopping search: Swarm best objective change less than 1e-08\n",
      "Agent  2\n",
      "coop deg detected  [0.10656726 0.10395568 0.        ]\n",
      "coop deg negociated  [0. 0. 0.]\n",
      "\n",
      "[[0.0999     0.27314863 0.0999    ]\n",
      " [0.2685379  0.0999     0.0999    ]\n",
      " [0.         0.         0.        ]]\n",
      "Env B, episode  3\n",
      "Stopping search: Swarm best objective change less than 1e-08\n",
      "Stopping search: Swarm best objective change less than 1e-08\n",
      "Agent  0\n",
      "coop deg detected  [0.         0.29611643 0.        ]\n",
      "coop deg negociated  [0.09999    0.35716917 0.09999   ]\n",
      "\n",
      "Stopping search: Swarm best objective change less than 1e-08\n",
      "Agent  1\n",
      "coop deg detected  [0.29002673 0.         0.        ]\n",
      "coop deg negociated  [0.35177544 0.09999    0.09999   ]\n",
      "\n",
      "Stopping search: Swarm best objective change less than 1e-08\n",
      "Agent  2\n",
      "coop deg detected  [0.10971625 0.11047802 0.        ]\n",
      "coop deg negociated  [0. 0. 0.]\n",
      "\n",
      "[[0.09999    0.35716917 0.09999   ]\n",
      " [0.35177544 0.09999    0.09999   ]\n",
      " [0.         0.         0.        ]]\n",
      "Env B, episode  4\n",
      "Stopping search: Swarm best objective change less than 1e-08\n",
      "Stopping search: Swarm best objective change less than 1e-08\n",
      "Agent  0\n",
      "coop deg detected  [0.         0.34039826 0.        ]\n",
      "coop deg negociated  [0.099999   0.40143951 0.099999  ]\n",
      "\n",
      "Stopping search: Swarm best objective change less than 1e-08\n",
      "Agent  1\n",
      "coop deg detected  [0.40472162 0.         0.        ]\n",
      "coop deg negociated  [0.45300205 0.099999   0.099999  ]\n",
      "\n",
      "Stopping search: Swarm best objective change less than 1e-08\n",
      "Agent  2\n",
      "coop deg detected  [0.10348209 0.11373865 0.        ]\n",
      "coop deg negociated  [0. 0. 0.]\n",
      "\n",
      "[[0.099999   0.40143951 0.099999  ]\n",
      " [0.45300205 0.099999   0.099999  ]\n",
      " [0.         0.         0.        ]]\n",
      "Env B, episode  5\n",
      "Stopping search: Swarm best objective change less than 1e-08\n",
      "Stopping search: Swarm best objective change less than 1e-08\n",
      "Agent  0\n",
      "coop deg detected  [0.         0.40271028 0.        ]\n",
      "coop deg negociated  [0.0999999  0.45633928 0.0999999 ]\n",
      "\n",
      "Stopping search: Swarm best objective change less than 1e-08\n",
      "Agent  1\n",
      "coop deg detected  [0.3754539 0.        0.       ]\n",
      "coop deg negociated  [0.43941787 0.0999999  0.0999999 ]\n",
      "\n",
      "Stopping search: Swarm best objective change less than 1e-08\n",
      "Agent  2\n",
      "coop deg detected  [0.10991554 0.10497554 0.        ]\n",
      "coop deg negociated  [0. 0. 0.]\n",
      "\n",
      "[[0.0999999  0.45633928 0.0999999 ]\n",
      " [0.43941787 0.0999999  0.0999999 ]\n",
      " [0.         0.         0.        ]]\n",
      "Env B, episode  6\n",
      "Stopping search: Swarm best objective change less than 1e-08\n",
      "Stopping search: Swarm best objective change less than 1e-08\n",
      "Agent  0\n",
      "coop deg detected  [0.         0.30102088 0.        ]\n",
      "coop deg negociated  [0.09999999 0.37946084 0.09999999]\n",
      "\n",
      "Stopping search: Swarm best objective change less than 1e-08\n",
      "Agent  1\n",
      "coop deg detected  [0.26311379 0.         0.        ]\n",
      "coop deg negociated  [0.34706396 0.09999999 0.09999999]\n",
      "\n",
      "Stopping search: Swarm best objective change less than 1e-08\n",
      "Agent  2\n",
      "coop deg detected  [0.11005614 0.10323718 0.        ]\n",
      "coop deg negociated  [0. 0. 0.]\n",
      "\n",
      "[[0.09999999 0.37946084 0.09999999]\n",
      " [0.34706396 0.09999999 0.09999999]\n",
      " [0.         0.         0.        ]]\n",
      "Env B, episode  7\n",
      "Stopping search: Swarm best objective change less than 1e-08\n",
      "Stopping search: Swarm best objective change less than 1e-08\n",
      "Agent  0\n",
      "coop deg detected  [0.        0.1466163 0.       ]\n",
      "coop deg negociated  [0.1        0.24670529 0.1       ]\n",
      "\n",
      "Stopping search: Swarm best objective change less than 1e-08\n",
      "Agent  1\n",
      "coop deg detected  [0.18266914 0.         0.        ]\n",
      "coop deg negociated  [0.2726684 0.1       0.1      ]\n",
      "\n",
      "Stopping search: Swarm best objective change less than 1e-08\n",
      "Agent  2\n",
      "coop deg detected  [0.1043897  0.10959494 0.        ]\n",
      "coop deg negociated  [0. 0. 0.]\n",
      "\n",
      "[[0.1        0.24670529 0.1       ]\n",
      " [0.2726684  0.1        0.1       ]\n",
      " [0.         0.         0.        ]]\n",
      "Env B, episode  8\n",
      "Stopping search: Swarm best objective change less than 1e-08\n",
      "Stopping search: Swarm best objective change less than 1e-08\n",
      "Agent  0\n",
      "coop deg detected  [0.         0.13371051 0.        ]\n",
      "coop deg negociated  [0.1        0.22297604 0.1       ]\n",
      "\n",
      "Stopping search: Swarm best objective change less than 1e-08\n",
      "Agent  1\n",
      "coop deg detected  [0.11319229 0.         0.        ]\n",
      "coop deg negociated  [0.2089526 0.1       0.1      ]\n",
      "\n",
      "Stopping search: Swarm best objective change less than 1e-08\n",
      "Agent  2\n",
      "coop deg detected  [0.10133984 0.10032851 0.        ]\n",
      "coop deg negociated  [0. 0. 0.]\n",
      "\n",
      "[[0.1        0.22297604 0.1       ]\n",
      " [0.2089526  0.1        0.1       ]\n",
      " [0.         0.         0.        ]]\n",
      "Env B, episode  9\n",
      "Stopping search: Swarm best objective change less than 1e-08\n",
      "Stopping search: Swarm best objective change less than 1e-08\n",
      "Agent  0\n",
      "coop deg detected  [0.         0.09921341 0.        ]\n",
      "coop deg negociated  [0.1        0.19266047 0.1       ]\n",
      "\n",
      "Stopping search: Swarm best objective change less than 1e-08\n",
      "Agent  1\n",
      "coop deg detected  [0.06594967 0.         0.        ]\n",
      "coop deg negociated  [0.16431449 0.1        0.1       ]\n",
      "\n",
      "Stopping search: Swarm best objective change less than 1e-08\n",
      "Agent  2\n",
      "coop deg detected  [0.10742436 0.10132309 0.        ]\n",
      "coop deg negociated  [0. 0. 0.]\n",
      "\n",
      "[[0.1        0.19266047 0.1       ]\n",
      " [0.16431449 0.1        0.1       ]\n",
      " [0.         0.         0.        ]]\n",
      "Env C, episode  0\n",
      "Stopping search: Swarm best objective change less than 1e-08\n"
     ]
    },
    {
     "name": "stderr",
     "output_type": "stream",
     "text": [
      "/usr/local/Cellar/ipython/7.8.0/libexec/vendor/lib/python3.7/site-packages/ipykernel_launcher.py:188: RuntimeWarning: More than 20 figures have been opened. Figures created through the pyplot interface (`matplotlib.pyplot.figure`) are retained until explicitly closed and may consume too much memory. (To control this warning, see the rcParam `figure.max_open_warning`).\n"
     ]
    },
    {
     "name": "stdout",
     "output_type": "stream",
     "text": [
      "Stopping search: Swarm best objective change less than 1e-08\n",
      "Agent  0\n",
      "coop deg detected  [0. 0. 0.]\n",
      "coop deg negociated  [0.09 0.09 0.09]\n",
      "\n",
      "Stopping search: Swarm best objective change less than 1e-08\n",
      "Agent  1\n",
      "coop deg detected  [0. 0. 0.]\n",
      "coop deg negociated  [0. 0. 0.]\n",
      "\n",
      "Stopping search: Swarm best objective change less than 1e-08\n",
      "Agent  2\n",
      "coop deg detected  [0. 0. 0.]\n",
      "coop deg negociated  [0. 0. 0.]\n",
      "\n",
      "[[0.09 0.09 0.09]\n",
      " [0.   0.   0.  ]\n",
      " [0.   0.   0.  ]]\n",
      "Env C, episode  1\n",
      "Stopping search: Swarm best objective change less than 1e-08\n",
      "Stopping search: Swarm best objective change less than 1e-08\n",
      "Agent  0\n",
      "coop deg detected  [0. 0. 0.]\n",
      "coop deg negociated  [0.099 0.099 0.099]\n",
      "\n",
      "Stopping search: Swarm best objective change less than 1e-08\n",
      "Agent  1\n",
      "coop deg detected  [0.09086849 0.         0.        ]\n",
      "coop deg negociated  [0. 0. 0.]\n",
      "\n",
      "Stopping search: Swarm best objective change less than 1e-08\n",
      "Agent  2\n",
      "coop deg detected  [0.09561074 0.         0.        ]\n",
      "coop deg negociated  [0. 0. 0.]\n",
      "\n",
      "[[0.099 0.099 0.099]\n",
      " [0.    0.    0.   ]\n",
      " [0.    0.    0.   ]]\n",
      "Env C, episode  2\n",
      "Stopping search: Swarm best objective change less than 1e-08\n",
      "Stopping search: Swarm best objective change less than 1e-08\n",
      "Agent  0\n",
      "coop deg detected  [0. 0. 0.]\n",
      "coop deg negociated  [0.0999 0.0999 0.0999]\n",
      "\n",
      "Stopping search: Swarm best objective change less than 1e-08\n",
      "Agent  1\n",
      "coop deg detected  [0.10124365 0.         0.        ]\n",
      "coop deg negociated  [0. 0. 0.]\n",
      "\n",
      "Stopping search: Swarm best objective change less than 1e-08\n",
      "Agent  2\n",
      "coop deg detected  [0.10301388 0.         0.        ]\n",
      "coop deg negociated  [0. 0. 0.]\n",
      "\n",
      "[[0.0999 0.0999 0.0999]\n",
      " [0.     0.     0.    ]\n",
      " [0.     0.     0.    ]]\n",
      "Env C, episode  3\n",
      "Stopping search: Swarm best objective change less than 1e-08\n",
      "Stopping search: Swarm best objective change less than 1e-08\n",
      "Agent  0\n",
      "coop deg detected  [0. 0. 0.]\n",
      "coop deg negociated  [0.09999 0.09999 0.09999]\n",
      "\n",
      "Stopping search: Swarm best objective change less than 1e-08\n",
      "Agent  1\n",
      "coop deg detected  [0.10807493 0.         0.        ]\n",
      "coop deg negociated  [0. 0. 0.]\n",
      "\n",
      "Stopping search: Swarm best objective change less than 1e-08\n",
      "Agent  2\n",
      "coop deg detected  [0.10296288 0.         0.        ]\n",
      "coop deg negociated  [0. 0. 0.]\n",
      "\n",
      "[[0.09999 0.09999 0.09999]\n",
      " [0.      0.      0.     ]\n",
      " [0.      0.      0.     ]]\n",
      "Env C, episode  4\n",
      "Stopping search: Swarm best objective change less than 1e-08\n",
      "Stopping search: Swarm best objective change less than 1e-08\n",
      "Agent  0\n",
      "coop deg detected  [0. 0. 0.]\n",
      "coop deg negociated  [0.099999 0.099999 0.099999]\n",
      "\n",
      "Stopping search: Swarm best objective change less than 1e-08\n",
      "Agent  1\n",
      "coop deg detected  [0.10692567 0.         0.        ]\n",
      "coop deg negociated  [0. 0. 0.]\n",
      "\n",
      "Stopping search: Swarm best objective change less than 1e-08\n",
      "Agent  2\n",
      "coop deg detected  [0.10056713 0.         0.        ]\n",
      "coop deg negociated  [0. 0. 0.]\n",
      "\n",
      "[[0.099999 0.099999 0.099999]\n",
      " [0.       0.       0.      ]\n",
      " [0.       0.       0.      ]]\n",
      "Env C, episode  5\n",
      "Stopping search: Swarm best objective change less than 1e-08\n",
      "Stopping search: Swarm best objective change less than 1e-08\n",
      "Agent  0\n",
      "coop deg detected  [0. 0. 0.]\n",
      "coop deg negociated  [0.0999999 0.0999999 0.0999999]\n",
      "\n",
      "Stopping search: Swarm best objective change less than 1e-08\n",
      "Agent  1\n",
      "coop deg detected  [0.10557095 0.         0.        ]\n",
      "coop deg negociated  [0. 0. 0.]\n",
      "\n",
      "Stopping search: Swarm best objective change less than 1e-08\n",
      "Agent  2\n",
      "coop deg detected  [0.10317672 0.         0.        ]\n",
      "coop deg negociated  [0. 0. 0.]\n",
      "\n",
      "[[0.0999999 0.0999999 0.0999999]\n",
      " [0.        0.        0.       ]\n",
      " [0.        0.        0.       ]]\n",
      "Env C, episode  6\n",
      "Stopping search: Swarm best objective change less than 1e-08\n",
      "Stopping search: Swarm best objective change less than 1e-08\n",
      "Agent  0\n",
      "coop deg detected  [0. 0. 0.]\n",
      "coop deg negociated  [0.09999999 0.09999999 0.09999999]\n",
      "\n",
      "Stopping search: Swarm best objective change less than 1e-08\n",
      "Agent  1\n",
      "coop deg detected  [0.10263517 0.         0.        ]\n",
      "coop deg negociated  [0. 0. 0.]\n",
      "\n",
      "Stopping search: Swarm best objective change less than 1e-08\n",
      "Agent  2\n",
      "coop deg detected  [0.10498526 0.         0.        ]\n",
      "coop deg negociated  [0. 0. 0.]\n",
      "\n",
      "[[0.09999999 0.09999999 0.09999999]\n",
      " [0.         0.         0.        ]\n",
      " [0.         0.         0.        ]]\n",
      "Env C, episode  7\n",
      "Stopping search: Swarm best objective change less than 1e-08\n",
      "Stopping search: Swarm best objective change less than 1e-08\n",
      "Agent  0\n",
      "coop deg detected  [0. 0. 0.]\n",
      "coop deg negociated  [0.1 0.1 0.1]\n",
      "\n",
      "Stopping search: Swarm best objective change less than 1e-08\n",
      "Agent  1\n",
      "coop deg detected  [0.10673968 0.         0.        ]\n",
      "coop deg negociated  [0. 0. 0.]\n",
      "\n",
      "Stopping search: Swarm best objective change less than 1e-08\n",
      "Agent  2\n",
      "coop deg detected  [0.10791945 0.         0.        ]\n",
      "coop deg negociated  [0. 0. 0.]\n",
      "\n",
      "[[0.1 0.1 0.1]\n",
      " [0.  0.  0. ]\n",
      " [0.  0.  0. ]]\n",
      "Env C, episode  8\n",
      "Stopping search: Swarm best objective change less than 1e-08\n",
      "Stopping search: Swarm best objective change less than 1e-08\n",
      "Agent  0\n",
      "coop deg detected  [0. 0. 0.]\n",
      "coop deg negociated  [0.1 0.1 0.1]\n",
      "\n",
      "Stopping search: Swarm best objective change less than 1e-08\n",
      "Agent  1\n",
      "coop deg detected  [0.10787139 0.         0.        ]\n",
      "coop deg negociated  [0. 0. 0.]\n",
      "\n",
      "Stopping search: Swarm best objective change less than 1e-08\n",
      "Agent  2\n",
      "coop deg detected  [0.10413471 0.         0.        ]\n",
      "coop deg negociated  [0. 0. 0.]\n",
      "\n",
      "[[0.1 0.1 0.1]\n",
      " [0.  0.  0. ]\n",
      " [0.  0.  0. ]]\n",
      "Env C, episode  9\n",
      "Stopping search: Swarm best objective change less than 1e-08\n",
      "Stopping search: Swarm best objective change less than 1e-08\n",
      "Agent  0\n",
      "coop deg detected  [0. 0. 0.]\n",
      "coop deg negociated  [0.1 0.1 0.1]\n",
      "\n",
      "Stopping search: Swarm best objective change less than 1e-08\n",
      "Agent  1\n",
      "coop deg detected  [0.10412224 0.         0.        ]\n",
      "coop deg negociated  [0. 0. 0.]\n",
      "\n",
      "Stopping search: Swarm best objective change less than 1e-08\n",
      "Agent  2\n",
      "coop deg detected  [0.10818693 0.         0.        ]\n",
      "coop deg negociated  [0. 0. 0.]\n",
      "\n",
      "[[0.1 0.1 0.1]\n",
      " [0.  0.  0. ]\n",
      " [0.  0.  0. ]]\n",
      "3.2973324320921362 3.6110851820151653 2.352559821596472 2.772588737239781\n"
     ]
    },
    {
     "data": {
      "image/png": "[encoded data removed]",
      "text/plain": [
       "<Figure size 432x288 with 3 Axes>"
      ]
     },
     "metadata": {
      "needs_background": "light"
     },
     "output_type": "display_data"
    },
    {
     "data": {
      "image/png": "[encoded data removed]",
      "text/plain": [
       "<Figure size 432x288 with 3 Axes>"
      ]
     },
     "metadata": {
      "needs_background": "light"
     },
     "output_type": "display_data"
    },
    {
     "data": {
      "image/png": "[encoded data removed]",
      "text/plain": [
       "<Figure size 432x288 with 3 Axes>"
      ]
     },
     "metadata": {
      "needs_background": "light"
     },
     "output_type": "display_data"
    },
    {
     "data": {
      "image/png": "[encoded data removed]",
      "text/plain": [
       "<Figure size 432x288 with 3 Axes>"
      ]
     },
     "metadata": {
      "needs_background": "light"
     },
     "output_type": "display_data"
    },
    {
     "data": {
      "image/png": "[encoded data removed]",
      "text/plain": [
       "<Figure size 432x288 with 3 Axes>"
      ]
     },
     "metadata": {
      "needs_background": "light"
     },
     "output_type": "display_data"
    },
    {
     "data": {
      "image/png": "[encoded data removed]",
      "text/plain": [
       "<Figure size 432x288 with 3 Axes>"
      ]
     },
     "metadata": {
      "needs_background": "light"
     },
     "output_type": "display_data"
    },
    {
     "data": {
      "image/png": "[encoded data removed]",
      "text/plain": [
       "<Figure size 432x288 with 3 Axes>"
      ]
     },
     "metadata": {
      "needs_background": "light"
     },
     "output_type": "display_data"
    },
    {
     "data": {
      "image/png": "[encoded data removed]",
      "text/plain": [
       "<Figure size 432x288 with 3 Axes>"
      ]
     },
     "metadata": {
      "needs_background": "light"
     },
     "output_type": "display_data"
    },
    {
     "data": {
      "image/png": "[encoded data removed]",
      "text/plain": [
       "<Figure size 432x288 with 3 Axes>"
      ]
     },
     "metadata": {
      "needs_background": "light"
     },
     "output_type": "display_data"
    },
    {
     "data": {
      "image/png": "[encoded data removed]",
      "text/plain": [
       "<Figure size 432x288 with 3 Axes>"
      ]
     },
     "metadata": {
      "needs_background": "light"
     },
     "output_type": "display_data"
    },
    {
     "data": {
      "image/png": "[encoded data removed]",
      "text/plain": [
       "<Figure size 432x288 with 3 Axes>"
      ]
     },
     "metadata": {
      "needs_background": "light"
     },
     "output_type": "display_data"
    },
    {
     "data": {
      "image/png": "[encoded data removed]",
      "text/plain": [
       "<Figure size 432x288 with 3 Axes>"
      ]
     },
     "metadata": {
      "needs_background": "light"
     },
     "output_type": "display_data"
    },
    {
     "data": {
      "image/png": "[encoded data removed]",
      "text/plain": [
       "<Figure size 432x288 with 3 Axes>"
      ]
     },
     "metadata": {
      "needs_background": "light"
     },
     "output_type": "display_data"
    },
    {
     "data": {
      "image/png": "[encoded data removed]",
      "text/plain": [
       "<Figure size 432x288 with 3 Axes>"
      ]
     },
     "metadata": {
      "needs_background": "light"
     },
     "output_type": "display_data"
    },
    {
     "data": {
      "image/png": "[encoded data removed]",
      "text/plain": [
       "<Figure size 432x288 with 3 Axes>"
      ]
     },
     "metadata": {
      "needs_background": "light"
     },
     "output_type": "display_data"
    },
    {
     "data": {
      "image/png": "[encoded data removed]",
      "text/plain": [
       "<Figure size 432x288 with 3 Axes>"
      ]
     },
     "metadata": {
      "needs_background": "light"
     },
     "output_type": "display_data"
    },
    {
     "data": {
      "image/png": "[encoded data removed]",
      "text/plain": [
       "<Figure size 432x288 with 3 Axes>"
      ]
     },
     "metadata": {
      "needs_background": "light"
     },
     "output_type": "display_data"
    },
    {
     "data": {
      "image/png": "[encoded data removed]",
      "text/plain": [
       "<Figure size 432x288 with 3 Axes>"
      ]
     },
     "metadata": {
      "needs_background": "light"
     },
     "output_type": "display_data"
    },
    {
     "data": {
      "image/png": "[encoded data removed]",
      "text/plain": [
       "<Figure size 432x288 with 3 Axes>"
      ]
     },
     "metadata": {
      "needs_background": "light"
     },
     "output_type": "display_data"
    },
    {
     "data": {
      "image/png": "[encoded data removed]",
      "text/plain": [
       "<Figure size 432x288 with 3 Axes>"
      ]
     },
     "metadata": {
      "needs_background": "light"
     },
     "output_type": "display_data"
    },
    {
     "data": {
      "image/png": "[encoded data removed]",
      "text/plain": [
       "<Figure size 432x288 with 3 Axes>"
      ]
     },
     "metadata": {
      "needs_background": "light"
     },
     "output_type": "display_data"
    },
    {
     "data": {
      "image/png": "[encoded data removed]",
      "text/plain": [
       "<Figure size 432x288 with 3 Axes>"
      ]
     },
     "metadata": {
      "needs_background": "light"
     },
     "output_type": "display_data"
    },
    {
     "data": {
      "image/png": "[encoded data removed]",
      "text/plain": [
       "<Figure size 432x288 with 3 Axes>"
      ]
     },
     "metadata": {
      "needs_background": "light"
     },
     "output_type": "display_data"
    },
    {
     "data": {
      "image/png": "[encoded data removed]",
      "text/plain": [
       "<Figure size 432x288 with 3 Axes>"
      ]
     },
     "metadata": {
      "needs_background": "light"
     },
     "output_type": "display_data"
    },
    {
     "data": {
      "image/png": "[encoded data removed]",
      "text/plain": [
       "<Figure size 432x288 with 3 Axes>"
      ]
     },
     "metadata": {
      "needs_background": "light"
     },
     "output_type": "display_data"
    },
    {
     "data": {
      "image/png": "[encoded data removed]",
      "text/plain": [
       "<Figure size 432x288 with 3 Axes>"
      ]
     },
     "metadata": {
      "needs_background": "light"
     },
     "output_type": "display_data"
    },
    {
     "data": {
      "image/png": "[encoded data removed]",
      "text/plain": [
       "<Figure size 432x288 with 3 Axes>"
      ]
     },
     "metadata": {
      "needs_background": "light"
     },
     "output_type": "display_data"
    },
    {
     "data": {
      "image/png": "[encoded data removed]",
      "text/plain": [
       "<Figure size 432x288 with 3 Axes>"
      ]
     },
     "metadata": {
      "needs_background": "light"
     },
     "output_type": "display_data"
    },
    {
     "data": {
      "image/png": "[encoded data removed]",
      "text/plain": [
       "<Figure size 432x288 with 3 Axes>"
      ]
     },
     "metadata": {
      "needs_background": "light"
     },
     "output_type": "display_data"
    },
    {
     "data": {
      "image/png": "[encoded data removed]",
      "text/plain": [
       "<Figure size 432x288 with 3 Axes>"
      ]
     },
     "metadata": {
      "needs_background": "light"
     },
     "output_type": "display_data"
    }
   ],
   "source": [
    "beta = 0.1\n",
    "r = 0.1\n",
    "alpha = 0\n",
    "N_iter = 10\n",
    "result = analyse(state_E, beta, r, alpha, N_iter)"
   ]
  },
  {
   "cell_type": "code",
   "execution_count": 23,
   "metadata": {},
   "outputs": [
    {
     "name": "stdout",
     "output_type": "stream",
     "text": [
      "-0.31375274992302904 -0.420028915643309\n",
      "3.2973324320921362 3.6110851820151653 2.352559821596472 2.772588737239781\n"
     ]
    }
   ],
   "source": [
    "envD = result[1][0]\n",
    "envE = result[1][1]\n",
    "envF = result[1][2]\n",
    "\n",
    "\n",
    "ut_max_pers_nices = -1*envD.hist_ut_agents[2][-1] #positive\n",
    "ut_pers_3egoist = -1*envD.hist_ut_agents[0][0] #positive  \n",
    "ut_pers_1egoist = -1*envE.hist_ut_agents[2][-1] #positive\n",
    "ut_pers_2egoist = -1*envF.hist_ut_agents[0][-1] #positive\n",
    "\n",
    "ic = ut_max_pers_nices-ut_pers_1egoist\n",
    "sf = ut_pers_2egoist - ut_pers_3egoist\n",
    "\n",
    "print(ic, sf)\n",
    "\n",
    "print(ut_max_pers_nices, ut_pers_1egoist, ut_pers_2egoist, ut_pers_3egoist)"
   ]
  },
  {
   "cell_type": "code",
   "execution_count": 27,
   "metadata": {},
   "outputs": [
    {
     "data": {
      "image/png": "[encoded data removed]",
      "text/plain": [
       "<Figure size 432x288 with 2 Axes>"
      ]
     },
     "metadata": {
      "needs_background": "light"
     },
     "output_type": "display_data"
    },
    {
     "data": {
      "image/png": "[encoded data removed]",
      "text/plain": [
       "<Figure size 432x288 with 1 Axes>"
      ]
     },
     "metadata": {
      "needs_background": "light"
     },
     "output_type": "display_data"
    }
   ],
   "source": [
    "affiche(envD,'One_egoist',2,4,-0.1,1)"
   ]
  },
  {
   "cell_type": "code",
   "execution_count": 28,
   "metadata": {},
   "outputs": [],
   "source": [
    "def all_expe(liste_bra):\n",
    "    output = []\n",
    "    for x in liste_bra:\n",
    "        beta, r, alpha = x\n",
    "        N_iter = 15\n",
    "        a = analyse(state_E, beta, r, alpha, N_iter)\n",
    "        output.append(a)\n",
    "    \n",
    "    return output"
   ]
  },
  {
   "cell_type": "code",
   "execution_count": 29,
   "metadata": {},
   "outputs": [],
   "source": [
    "liste_exp = [(0.1,0.05,0),(0.1,0.02,0)]\n",
    "#liste_exp = [(0.1,0.05,0),(0.1,0.02,0),(0.3,0.1,0),(0.5,0.1,0),(0.7,0.1,0),(0.1,0.1,0.3),(0.1,0.1,0.5),(0.1,0.1,0.7)]"
   ]
  },
  {
   "cell_type": "code",
   "execution_count": 30,
   "metadata": {},
   "outputs": [
    {
     "name": "stdout",
     "output_type": "stream",
     "text": [
      "Stopping search: Swarm best objective change less than 1e-08\n",
      "Env A, episode  0\n",
      "Stopping search: Swarm best objective change less than 1e-08\n",
      "Stopping search: Swarm best objective change less than 1e-08\n",
      "Agent  0\n",
      "coop deg detected  [0. 0. 0.]\n",
      "coop deg negociated  [0.045 0.045 0.045]\n",
      "\n",
      "Stopping search: Swarm best objective change less than 1e-08\n",
      "Agent  1\n",
      "coop deg detected  [0. 0. 0.]\n",
      "coop deg negociated  [0.045 0.045 0.045]\n",
      "\n",
      "Stopping search: Swarm best objective change less than 1e-08\n",
      "Agent  2\n",
      "coop deg detected  [0. 0. 0.]\n",
      "coop deg negociated  [0.045 0.045 0.045]\n",
      "\n",
      "[[0.045 0.045 0.045]\n",
      " [0.045 0.045 0.045]\n",
      " [0.045 0.045 0.045]]\n",
      "Env A, episode  1\n",
      "Stopping search: Swarm best objective change less than 1e-08\n",
      "Stopping search: Swarm best objective change less than 1e-08\n",
      "Agent  0\n",
      "coop deg detected  [0.         0.04751561 0.04669681]\n",
      "coop deg negociated  [0.0495     0.09012585 0.08942577]\n",
      "\n",
      "Stopping search: Swarm best objective change less than 1e-08\n",
      "Agent  1\n",
      "coop deg detected  [0.04640292 0.         0.04809226]\n",
      "coop deg negociated  [0.0891745  0.0495     0.09061889]\n",
      "\n",
      "Stopping search: Swarm best objective change less than 1e-08\n",
      "Agent  2\n",
      "coop deg detected  [0.04908279 0.04711512 0.        ]\n",
      "coop deg negociated  [0.09146579 0.08978343 0.0495    ]\n",
      "\n",
      "[[0.0495     0.09012585 0.08942577]\n",
      " [0.0891745  0.0495     0.09061889]\n",
      " [0.09146579 0.08978343 0.0495    ]]\n",
      "Env A, episode  2\n",
      "Stopping search: Swarm best objective change less than 1e-08\n",
      "Stopping search: Swarm best objective change less than 1e-08\n",
      "Agent  0\n",
      "coop deg detected  [0.         0.08875682 0.09782487]\n",
      "coop deg negociated  [0.04995    0.12989967 0.13758284]\n",
      "\n",
      "Stopping search: Swarm best objective change less than 1e-08\n",
      "Agent  1\n",
      "coop deg detected  [0.09959294 0.         0.09919687]\n",
      "coop deg negociated  [0.13906941 0.04995    0.13887521]\n",
      "\n",
      "Stopping search: Swarm best objective change less than 1e-08\n",
      "Agent  2\n",
      "coop deg detected  [0.10047176 0.105683   0.        ]\n",
      "coop deg negociated  [0.14004994 0.14433731 0.04995   ]\n",
      "\n",
      "[[0.04995    0.12989967 0.13758284]\n",
      " [0.13906941 0.04995    0.13887521]\n",
      " [0.14004994 0.14433731 0.04995   ]]\n",
      "Env A, episode  3\n",
      "Stopping search: Swarm best objective change less than 1e-08\n",
      "Stopping search: Swarm best objective change less than 1e-08\n",
      "Agent  0\n",
      "coop deg detected  [0.         0.16308003 0.15524155]\n",
      "coop deg negociated  [0.049995   0.19742339 0.19148981]\n",
      "\n",
      "Stopping search: Swarm best objective change less than 1e-08\n",
      "Agent  1\n",
      "coop deg detected  [0.15251282 0.         0.17451103]\n",
      "coop deg negociated  [0.1893054  0.049995   0.20809445]\n",
      "\n",
      "Stopping search: Swarm best objective change less than 1e-08\n",
      "Agent  2\n",
      "coop deg detected  [0.16133138 0.15984321 0.        ]\n",
      "coop deg negociated  [0.19694333 0.19609967 0.049995  ]\n",
      "\n",
      "[[0.049995   0.19742339 0.19148981]\n",
      " [0.1893054  0.049995   0.20809445]\n",
      " [0.19694333 0.19609967 0.049995  ]]\n",
      "Env A, episode  4\n",
      "Stopping search: Swarm best objective change less than 1e-08\n",
      "Stopping search: Swarm best objective change less than 1e-08\n",
      "Agent  0\n",
      "coop deg detected  [0.         0.23003168 0.23943774]\n",
      "coop deg negociated  [0.0499995  0.26141942 0.26886825]\n",
      "\n",
      "Stopping search: Swarm best objective change less than 1e-08\n",
      "Agent  1\n",
      "coop deg detected  [0.25258433 0.         0.24240524]\n",
      "coop deg negociated  [0.27989014 0.0499995  0.27306592]\n",
      "\n",
      "Stopping search: Swarm best objective change less than 1e-08\n",
      "Agent  2\n",
      "coop deg detected  [0.23739192 0.25800964 0.        ]\n",
      "coop deg negociated  [0.26766443 0.28520821 0.0499995 ]\n",
      "\n",
      "[[0.0499995  0.26141942 0.26886825]\n",
      " [0.27989014 0.0499995  0.27306592]\n",
      " [0.26766443 0.28520821 0.0499995 ]]\n",
      "Env A, episode  5\n",
      "Stopping search: Swarm best objective change less than 1e-08\n",
      "Stopping search: Swarm best objective change less than 1e-08\n",
      "Agent  0\n",
      "coop deg detected  [0.         0.39539916 0.380207  ]\n",
      "coop deg negociated  [0.04999995 0.40920823 0.39696381]\n",
      "\n",
      "Stopping search: Swarm best objective change less than 1e-08\n",
      "Agent  1\n",
      "coop deg detected  [0.36085656 0.         0.36817234]\n",
      "coop deg negociated  [0.38152137 0.04999995 0.38709394]\n",
      "\n",
      "Stopping search: Swarm best objective change less than 1e-08\n",
      "Agent  2\n",
      "coop deg detected  [0.38048843 0.36445532 0.        ]\n",
      "coop deg negociated  [0.39708405 0.38513012 0.04999995]\n",
      "\n",
      "[[0.04999995 0.40920823 0.39696381]\n",
      " [0.38152137 0.04999995 0.38709394]\n",
      " [0.39708405 0.38513012 0.04999995]]\n",
      "Env A, episode  6\n",
      "Stopping search: Swarm best objective change less than 1e-08\n",
      "Stopping search: Swarm best objective change less than 1e-08\n",
      "Agent  0\n",
      "coop deg detected  [0.         0.63005475 0.70325732]\n",
      "coop deg negociated  [0.05       0.62461764 0.68598139]\n",
      "\n",
      "Stopping search: Swarm best objective change less than 1e-08\n",
      "Agent  1\n",
      "coop deg detected  [0.60193251 0.         0.54466752]\n",
      "coop deg negociated  [0.59780444 0.05       0.54940012]\n",
      "\n",
      "Stopping search: Swarm best objective change less than 1e-08\n",
      "Agent  2\n",
      "coop deg detected  [0.68745813 0.64704716 0.        ]\n",
      "coop deg negociated  [0.67248511 0.63673833 0.05      ]\n",
      "\n",
      "[[0.05       0.62461764 0.68598139]\n",
      " [0.59780444 0.05       0.54940012]\n",
      " [0.67248511 0.63673833 0.05      ]]\n",
      "Env A, episode  7\n",
      "Stopping search: Swarm best objective change less than 1e-08\n",
      "Stopping search: Swarm best objective change less than 1e-08\n",
      "Agent  0\n",
      "coop deg detected  [0. 1. 1.]\n",
      "coop deg negociated  [0.05       0.96246176 0.96859814]\n",
      "\n",
      "Stopping search: Swarm best objective change less than 1e-08\n",
      "Agent  1\n",
      "coop deg detected  [1. 0. 1.]\n",
      "coop deg negociated  [0.95978044 0.05       0.95494001]\n",
      "\n",
      "Stopping search: Swarm best objective change less than 1e-08\n",
      "Agent  2\n",
      "coop deg detected  [1. 1. 0.]\n",
      "coop deg negociated  [0.96724851 0.96367383 0.05      ]\n",
      "\n",
      "[[0.05       0.96246176 0.96859814]\n",
      " [0.95978044 0.05       0.95494001]\n",
      " [0.96724851 0.96367383 0.05      ]]\n",
      "Env A, episode  8\n",
      "Stopping search: Swarm best objective change less than 1e-08\n",
      "Stopping search: Swarm best objective change less than 1e-08\n",
      "Agent  0\n",
      "coop deg detected  [0. 1. 1.]\n",
      "coop deg negociated  [0.05       0.99624618 0.99685981]\n",
      "\n",
      "Stopping search: Swarm best objective change less than 1e-08\n",
      "Agent  1\n",
      "coop deg detected  [1. 0. 1.]\n",
      "coop deg negociated  [0.99597804 0.05       0.995494  ]\n",
      "\n",
      "Stopping search: Swarm best objective change less than 1e-08\n",
      "Agent  2\n",
      "coop deg detected  [1. 1. 0.]\n",
      "coop deg negociated  [0.99672485 0.99636738 0.05      ]\n",
      "\n",
      "[[0.05       0.99624618 0.99685981]\n",
      " [0.99597804 0.05       0.995494  ]\n",
      " [0.99672485 0.99636738 0.05      ]]\n",
      "Env A, episode  9\n",
      "Stopping search: Swarm best objective change less than 1e-08\n",
      "Stopping search: Swarm best objective change less than 1e-08\n",
      "Agent  0\n",
      "coop deg detected  [0.         0.09574682 0.85717519]\n",
      "coop deg negociated  [0.05       0.22648815 0.87757077]\n",
      "\n",
      "Stopping search: Swarm best objective change less than 1e-08\n",
      "Agent  1\n",
      "coop deg detected  [1. 0. 1.]\n",
      "coop deg negociated  [0.9995978 0.05      0.9995494]\n",
      "\n",
      "Stopping search: Swarm best objective change less than 1e-08\n",
      "Agent  2\n",
      "coop deg detected  [1. 1. 0.]\n",
      "coop deg negociated  [0.99967249 0.99963674 0.05      ]\n",
      "\n",
      "[[0.05       0.22648815 0.87757077]\n",
      " [0.9995978  0.05       0.9995494 ]\n",
      " [0.99967249 0.99963674 0.05      ]]\n",
      "Env A, episode  10\n",
      "Stopping search: Swarm best objective change less than 1e-08\n",
      "Stopping search: Swarm best objective change less than 1e-08\n",
      "Agent  0\n",
      "coop deg detected  [0. 1. 1.]\n",
      "coop deg negociated  [0.05       0.92264882 0.98775708]\n",
      "\n",
      "Stopping search: Swarm best objective change less than 1e-08\n",
      "Agent  1\n",
      "coop deg detected  [0.         0.         0.08155528]\n",
      "coop deg negociated  [0.14495978 0.05       0.21468471]\n",
      "\n",
      "Stopping search: Swarm best objective change less than 1e-08\n",
      "Agent  2\n",
      "coop deg detected  [1.         0.14456002 0.        ]\n",
      "coop deg negociated  [0.99996725 0.26856249 0.05      ]\n",
      "\n",
      "[[0.05       0.92264882 0.98775708]\n",
      " [0.14495978 0.05       0.21468471]\n",
      " [0.99996725 0.26856249 0.05      ]]\n",
      "Env A, episode  11\n",
      "Stopping search: Swarm best objective change less than 1e-08\n",
      "Stopping search: Swarm best objective change less than 1e-08\n",
      "Agent  0\n",
      "coop deg detected  [0.         0.         0.26931606]\n",
      "coop deg negociated  [0.05       0.13726488 0.37404094]\n",
      "\n",
      "Stopping search: Swarm best objective change less than 1e-08\n",
      "Agent  1\n",
      "coop deg detected  [0. 0. 1.]\n",
      "coop deg negociated  [0.05949598 0.05       0.92146847]\n",
      "\n",
      "Stopping search: Swarm best objective change less than 1e-08\n",
      "Agent  2\n",
      "coop deg detected  [0.16352923 1.         0.        ]\n",
      "coop deg negociated  [0.28481422 0.92685625 0.05      ]\n",
      "\n",
      "[[0.05       0.13726488 0.37404094]\n",
      " [0.05949598 0.05       0.92146847]\n",
      " [0.28481422 0.92685625 0.05      ]]\n",
      "Env A, episode  12\n"
     ]
    },
    {
     "name": "stdout",
     "output_type": "stream",
     "text": [
      "Stopping search: Swarm best objective change less than 1e-08\n",
      "Stopping search: Swarm best objective change less than 1e-08\n",
      "Agent  0\n",
      "coop deg detected  [0.         0.03710644 0.        ]\n",
      "coop deg negociated  [0.05       0.0904525  0.08240409]\n",
      "\n",
      "Stopping search: Swarm best objective change less than 1e-08\n",
      "Agent  1\n",
      "coop deg detected  [1. 0. 1.]\n",
      "coop deg negociated  [0.9059496  0.05       0.99214685]\n",
      "\n",
      "Stopping search: Swarm best objective change less than 1e-08\n",
      "Agent  2\n",
      "coop deg detected  [0.11021836 0.18583839 0.        ]\n",
      "coop deg negociated  [0.16771812 0.29657745 0.05      ]\n",
      "\n",
      "[[0.05       0.0904525  0.08240409]\n",
      " [0.9059496  0.05       0.99214685]\n",
      " [0.16771812 0.29657745 0.05      ]]\n",
      "Env A, episode  13\n",
      "Stopping search: Swarm best objective change less than 1e-08\n",
      "Stopping search: Swarm best objective change less than 1e-08\n",
      "Agent  0\n",
      "coop deg detected  [0.         0.00553613 0.        ]\n",
      "coop deg negociated  [0.05       0.05877864 0.05324041]\n",
      "\n",
      "Stopping search: Swarm best objective change less than 1e-08\n",
      "Agent  1\n",
      "coop deg detected  [1.         0.         0.70968607]\n",
      "coop deg negociated  [0.99059496 0.05       0.75099628]\n",
      "\n",
      "Stopping search: Swarm best objective change less than 1e-08\n",
      "Agent  2\n",
      "coop deg detected  [0.         0.00297518 0.        ]\n",
      "coop deg negociated  [0.06177181 0.07720152 0.05      ]\n",
      "\n",
      "[[0.05       0.05877864 0.05324041]\n",
      " [0.99059496 0.05       0.75099628]\n",
      " [0.06177181 0.07720152 0.05      ]]\n",
      "Env A, episode  14\n",
      "Stopping search: Swarm best objective change less than 1e-08\n",
      "Stopping search: Swarm best objective change less than 1e-08\n",
      "Agent  0\n",
      "coop deg detected  [0. 1. 1.]\n",
      "coop deg negociated  [0.05       0.90587786 0.90532404]\n",
      "\n",
      "Stopping search: Swarm best objective change less than 1e-08\n",
      "Agent  1\n",
      "coop deg detected  [0.03490594 0.         0.        ]\n",
      "coop deg negociated  [0.17390407 0.05       0.12009963]\n",
      "\n",
      "Stopping search: Swarm best objective change less than 1e-08\n",
      "Agent  2\n",
      "coop deg detected  [0.2936163 0.        0.       ]\n",
      "coop deg negociated  [0.30221912 0.05272015 0.05      ]\n",
      "\n",
      "[[0.05       0.90587786 0.90532404]\n",
      " [0.17390407 0.05       0.12009963]\n",
      " [0.30221912 0.05272015 0.05      ]]\n",
      "Env B, episode  0\n",
      "Stopping search: Swarm best objective change less than 1e-08\n",
      "Stopping search: Swarm best objective change less than 1e-08\n",
      "Agent  0\n",
      "coop deg detected  [0. 0. 0.]\n",
      "coop deg negociated  [0.045 0.045 0.045]\n",
      "\n",
      "Stopping search: Swarm best objective change less than 1e-08\n",
      "Agent  1\n",
      "coop deg detected  [0. 0. 0.]\n",
      "coop deg negociated  [0.045 0.045 0.045]\n",
      "\n",
      "Stopping search: Swarm best objective change less than 1e-08\n",
      "Agent  2\n",
      "coop deg detected  [0. 0. 0.]\n",
      "coop deg negociated  [0. 0. 0.]\n",
      "\n",
      "[[0.045 0.045 0.045]\n",
      " [0.045 0.045 0.045]\n",
      " [0.    0.    0.   ]]\n",
      "Env B, episode  1\n",
      "Stopping search: Swarm best objective change less than 1e-08\n",
      "Stopping search: Swarm best objective change less than 1e-08\n",
      "Agent  0\n",
      "coop deg detected  [0.         0.04511986 0.        ]\n",
      "coop deg negociated  [0.0495     0.08807748 0.0495    ]\n",
      "\n",
      "Stopping search: Swarm best objective change less than 1e-08\n",
      "Agent  1\n",
      "coop deg detected  [0.04519361 0.         0.        ]\n",
      "coop deg negociated  [0.08814053 0.0495     0.0495    ]\n",
      "\n",
      "Stopping search: Swarm best objective change less than 1e-08\n",
      "Agent  2\n",
      "coop deg detected  [0.04800964 0.04667685 0.        ]\n",
      "coop deg negociated  [0. 0. 0.]\n",
      "\n",
      "[[0.0495     0.08807748 0.0495    ]\n",
      " [0.08814053 0.0495     0.0495    ]\n",
      " [0.         0.         0.        ]]\n",
      "Env B, episode  2\n",
      "Stopping search: Swarm best objective change less than 1e-08\n",
      "Stopping search: Swarm best objective change less than 1e-08\n",
      "Agent  0\n",
      "coop deg detected  [0.        0.0917789 0.       ]\n",
      "coop deg negociated  [0.04995    0.13227871 0.04995   ]\n",
      "\n",
      "Stopping search: Swarm best objective change less than 1e-08\n",
      "Agent  1\n",
      "coop deg detected  [0.09560777 0.         0.        ]\n",
      "coop deg negociated  [0.1355587 0.04995   0.04995  ]\n",
      "\n",
      "Stopping search: Swarm best objective change less than 1e-08\n",
      "Agent  2\n",
      "coop deg detected  [0.05402647 0.05310825 0.        ]\n",
      "coop deg negociated  [0. 0. 0.]\n",
      "\n",
      "[[0.04995    0.13227871 0.04995   ]\n",
      " [0.1355587  0.04995    0.04995   ]\n",
      " [0.         0.         0.        ]]\n",
      "Env B, episode  3\n",
      "Stopping search: Swarm best objective change less than 1e-08\n",
      "Stopping search: Swarm best objective change less than 1e-08\n",
      "Agent  0\n",
      "coop deg detected  [0.         0.14236292 0.        ]\n",
      "coop deg negociated  [0.049995   0.17994816 0.049995  ]\n",
      "\n",
      "Stopping search: Swarm best objective change less than 1e-08\n",
      "Agent  1\n",
      "coop deg detected  [0.13930993 0.         0.        ]\n",
      "coop deg negociated  [0.17766586 0.049995   0.049995  ]\n",
      "\n",
      "Stopping search: Swarm best objective change less than 1e-08\n",
      "Agent  2\n",
      "coop deg detected  [0.05189086 0.05273367 0.        ]\n",
      "coop deg negociated  [0. 0. 0.]\n",
      "\n",
      "[[0.049995   0.17994816 0.049995  ]\n",
      " [0.17766586 0.049995   0.049995  ]\n",
      " [0.         0.         0.        ]]\n",
      "Env B, episode  4\n",
      "Stopping search: Swarm best objective change less than 1e-08\n",
      "Stopping search: Swarm best objective change less than 1e-08\n",
      "Agent  0\n",
      "coop deg detected  [0.         0.18878155 0.        ]\n",
      "coop deg negociated  [0.0499995  0.22440305 0.0499995 ]\n",
      "\n",
      "Stopping search: Swarm best objective change less than 1e-08\n",
      "Agent  1\n",
      "coop deg detected  [0.18466074 0.         0.        ]\n",
      "coop deg negociated  [0.22065152 0.0499995  0.0499995 ]\n",
      "\n",
      "Stopping search: Swarm best objective change less than 1e-08\n",
      "Agent  2\n",
      "coop deg detected  [0.05211103 0.05315172 0.        ]\n",
      "coop deg negociated  [0. 0. 0.]\n",
      "\n",
      "[[0.0499995  0.22440305 0.0499995 ]\n",
      " [0.22065152 0.0499995  0.0499995 ]\n",
      " [0.         0.         0.        ]]\n",
      "Env B, episode  5\n",
      "Stopping search: Swarm best objective change less than 1e-08\n"
     ]
    },
    {
     "name": "stderr",
     "output_type": "stream",
     "text": [
      "/usr/local/Cellar/ipython/7.8.0/libexec/vendor/lib/python3.7/site-packages/ipykernel_launcher.py:188: RuntimeWarning: More than 20 figures have been opened. Figures created through the pyplot interface (`matplotlib.pyplot.figure`) are retained until explicitly closed and may consume too much memory. (To control this warning, see the rcParam `figure.max_open_warning`).\n"
     ]
    },
    {
     "name": "stdout",
     "output_type": "stream",
     "text": [
      "Stopping search: Swarm best objective change less than 1e-08\n",
      "Agent  0\n",
      "coop deg detected  [0.         0.20795583 0.        ]\n",
      "coop deg negociated  [0.04999995 0.24524254 0.04999995]\n",
      "\n",
      "Stopping search: Swarm best objective change less than 1e-08\n",
      "Agent  1\n",
      "coop deg detected  [0.22042439 0.         0.        ]\n",
      "coop deg negociated  [0.25552801 0.04999995 0.04999995]\n",
      "\n",
      "Stopping search: Swarm best objective change less than 1e-08\n",
      "Agent  2\n",
      "coop deg detected  [0.05097859 0.05215501 0.        ]\n",
      "coop deg negociated  [0. 0. 0.]\n",
      "\n",
      "[[0.04999995 0.24524254 0.04999995]\n",
      " [0.25552801 0.04999995 0.04999995]\n",
      " [0.         0.         0.        ]]\n",
      "Env B, episode  6\n",
      "Stopping search: Swarm best objective change less than 1e-08\n",
      "Stopping search: Swarm best objective change less than 1e-08\n",
      "Agent  0\n",
      "coop deg detected  [0.         0.21863225 0.        ]\n",
      "coop deg negociated  [0.05       0.25645483 0.05      ]\n",
      "\n",
      "Stopping search: Swarm best objective change less than 1e-08\n",
      "Agent  1\n",
      "coop deg detected  [0.2113961 0.        0.       ]\n",
      "coop deg negociated  [0.25129647 0.05       0.05      ]\n",
      "\n",
      "Stopping search: Swarm best objective change less than 1e-08\n",
      "Agent  2\n",
      "coop deg detected  [0.05148899 0.05246448 0.        ]\n",
      "coop deg negociated  [0. 0. 0.]\n",
      "\n",
      "[[0.05       0.25645483 0.05      ]\n",
      " [0.25129647 0.05       0.05      ]\n",
      " [0.         0.         0.        ]]\n",
      "Env B, episode  7\n",
      "Stopping search: Swarm best objective change less than 1e-08\n",
      "Stopping search: Swarm best objective change less than 1e-08\n",
      "Agent  0\n",
      "coop deg detected  [0.         0.19322356 0.        ]\n",
      "coop deg negociated  [0.05       0.23585163 0.05      ]\n",
      "\n",
      "Stopping search: Swarm best objective change less than 1e-08\n",
      "Agent  1\n",
      "coop deg detected  [0.19144428 0.         0.        ]\n",
      "coop deg negociated  [0.23381451 0.05       0.05      ]\n",
      "\n",
      "Stopping search: Swarm best objective change less than 1e-08\n",
      "Agent  2\n",
      "coop deg detected  [0.05060194 0.05224314 0.        ]\n",
      "coop deg negociated  [0. 0. 0.]\n",
      "\n",
      "[[0.05       0.23585163 0.05      ]\n",
      " [0.23381451 0.05       0.05      ]\n",
      " [0.         0.         0.        ]]\n",
      "Env B, episode  8\n",
      "Stopping search: Swarm best objective change less than 1e-08\n",
      "Stopping search: Swarm best objective change less than 1e-08\n",
      "Agent  0\n",
      "coop deg detected  [0.         0.19001098 0.        ]\n",
      "coop deg negociated  [0.05       0.23104455 0.05      ]\n",
      "\n",
      "Stopping search: Swarm best objective change less than 1e-08\n",
      "Agent  1\n",
      "coop deg detected  [0.17456376 0.         0.        ]\n",
      "coop deg negociated  [0.21763346 0.05       0.05      ]\n",
      "\n",
      "Stopping search: Swarm best objective change less than 1e-08\n",
      "Agent  2\n",
      "coop deg detected  [0.04833718 0.0480932  0.        ]\n",
      "coop deg negociated  [0. 0. 0.]\n",
      "\n",
      "[[0.05       0.23104455 0.05      ]\n",
      " [0.21763346 0.05       0.05      ]\n",
      " [0.         0.         0.        ]]\n",
      "Env B, episode  9\n",
      "Stopping search: Swarm best objective change less than 1e-08\n",
      "Stopping search: Swarm best objective change less than 1e-08\n",
      "Agent  0\n",
      "coop deg detected  [0.         0.10797668 0.        ]\n",
      "coop deg negociated  [0.05       0.16042452 0.05      ]\n",
      "\n",
      "Stopping search: Swarm best objective change less than 1e-08\n",
      "Agent  1\n",
      "coop deg detected  [0.11931138 0.         0.        ]\n",
      "coop deg negociated  [0.16877457 0.05       0.05      ]\n",
      "\n",
      "Stopping search: Swarm best objective change less than 1e-08\n",
      "Agent  2\n",
      "coop deg detected  [0.05261088 0.05494836 0.        ]\n",
      "coop deg negociated  [0. 0. 0.]\n",
      "\n",
      "[[0.05       0.16042452 0.05      ]\n",
      " [0.16877457 0.05       0.05      ]\n",
      " [0.         0.         0.        ]]\n",
      "Env B, episode  10\n",
      "Stopping search: Swarm best objective change less than 1e-08\n",
      "Stopping search: Swarm best objective change less than 1e-08\n",
      "Agent  0\n",
      "coop deg detected  [0.         0.09656091 0.        ]\n",
      "coop deg negociated  [0.05       0.14360203 0.05      ]\n",
      "\n",
      "Stopping search: Swarm best objective change less than 1e-08\n",
      "Agent  1\n",
      "coop deg detected  [0.07563359 0.         0.        ]\n",
      "coop deg negociated  [0.12654417 0.05       0.05      ]\n",
      "\n",
      "Stopping search: Swarm best objective change less than 1e-08\n",
      "Agent  2\n",
      "coop deg detected  [0.05157788 0.05081495 0.        ]\n",
      "coop deg negociated  [0. 0. 0.]\n",
      "\n",
      "[[0.05       0.14360203 0.05      ]\n",
      " [0.12654417 0.05       0.05      ]\n",
      " [0.         0.         0.        ]]\n",
      "Env B, episode  11\n",
      "Stopping search: Swarm best objective change less than 1e-08\n",
      "Stopping search: Swarm best objective change less than 1e-08\n",
      "Agent  0\n",
      "coop deg detected  [0.         0.06423903 0.        ]\n",
      "coop deg negociated  [0.05       0.11428457 0.05      ]\n",
      "\n",
      "Stopping search: Swarm best objective change less than 1e-08\n",
      "Agent  1\n",
      "coop deg detected  [0.06493921 0.         0.        ]\n",
      "coop deg negociated  [0.11317744 0.05       0.05      ]\n",
      "\n",
      "Stopping search: Swarm best objective change less than 1e-08\n",
      "Agent  2\n",
      "coop deg detected  [0.0502531  0.04867123 0.        ]\n",
      "coop deg negociated  [0. 0. 0.]\n",
      "\n",
      "[[0.05       0.11428457 0.05      ]\n",
      " [0.11317744 0.05       0.05      ]\n",
      " [0.         0.         0.        ]]\n",
      "Env B, episode  12\n",
      "Stopping search: Swarm best objective change less than 1e-08\n",
      "Stopping search: Swarm best objective change less than 1e-08\n",
      "Agent  0\n",
      "coop deg detected  [0.         0.04876236 0.        ]\n",
      "coop deg negociated  [0.05       0.09812028 0.05      ]\n",
      "\n",
      "Stopping search: Swarm best objective change less than 1e-08\n",
      "Agent  1\n",
      "coop deg detected  [0.05113026 0.         0.        ]\n",
      "coop deg negociated  [0.10003412 0.05       0.05      ]\n",
      "\n",
      "Stopping search: Swarm best objective change less than 1e-08\n",
      "Agent  2\n",
      "coop deg detected  [0.0498343  0.05275563 0.        ]\n",
      "coop deg negociated  [0. 0. 0.]\n",
      "\n",
      "[[0.05       0.09812028 0.05      ]\n",
      " [0.10003412 0.05       0.05      ]\n",
      " [0.         0.         0.        ]]\n",
      "Env B, episode  13\n",
      "Stopping search: Swarm best objective change less than 1e-08\n",
      "Stopping search: Swarm best objective change less than 1e-08\n",
      "Agent  0\n",
      "coop deg detected  [0.       0.038402 0.      ]\n",
      "coop deg negociated  [0.05       0.08764574 0.05      ]\n",
      "\n",
      "Stopping search: Swarm best objective change less than 1e-08\n",
      "Agent  1\n",
      "coop deg detected  [0.0551914 0.        0.       ]\n",
      "coop deg negociated  [0.10219206 0.05       0.05      ]\n",
      "\n",
      "Stopping search: Swarm best objective change less than 1e-08\n",
      "Agent  2\n",
      "coop deg detected  [0.05096462 0.05197471 0.        ]\n",
      "coop deg negociated  [0. 0. 0.]\n",
      "\n",
      "[[0.05       0.08764574 0.05      ]\n",
      " [0.10219206 0.05       0.05      ]\n",
      " [0.         0.         0.        ]]\n",
      "Env B, episode  14\n",
      "Stopping search: Swarm best objective change less than 1e-08\n",
      "Stopping search: Swarm best objective change less than 1e-08\n",
      "Agent  0\n",
      "coop deg detected  [0.         0.03417975 0.        ]\n",
      "coop deg negociated  [0.05       0.08298826 0.05      ]\n",
      "\n",
      "Stopping search: Swarm best objective change less than 1e-08\n",
      "Agent  1\n",
      "coop deg detected  [0.03607281 0.         0.        ]\n",
      "coop deg negociated  [0.08606146 0.05       0.05      ]\n",
      "\n",
      "Stopping search: Swarm best objective change less than 1e-08\n",
      "Agent  2\n",
      "coop deg detected  [0.05249594 0.05293432 0.        ]\n",
      "coop deg negociated  [0. 0. 0.]\n",
      "\n",
      "[[0.05       0.08298826 0.05      ]\n",
      " [0.08606146 0.05       0.05      ]\n",
      " [0.         0.         0.        ]]\n",
      "Env C, episode  0\n",
      "Stopping search: Swarm best objective change less than 1e-08\n",
      "Stopping search: Swarm best objective change less than 1e-08\n",
      "Agent  0\n",
      "coop deg detected  [0. 0. 0.]\n",
      "coop deg negociated  [0.045 0.045 0.045]\n",
      "\n",
      "Stopping search: Swarm best objective change less than 1e-08\n",
      "Agent  1\n",
      "coop deg detected  [0. 0. 0.]\n",
      "coop deg negociated  [0. 0. 0.]\n",
      "\n",
      "Stopping search: Swarm best objective change less than 1e-08\n",
      "Agent  2\n",
      "coop deg detected  [0. 0. 0.]\n",
      "coop deg negociated  [0. 0. 0.]\n",
      "\n",
      "[[0.045 0.045 0.045]\n",
      " [0.    0.    0.   ]\n",
      " [0.    0.    0.   ]]\n",
      "Env C, episode  1\n",
      "Stopping search: Swarm best objective change less than 1e-08\n",
      "Stopping search: Swarm best objective change less than 1e-08\n",
      "Agent  0\n",
      "coop deg detected  [0. 0. 0.]\n",
      "coop deg negociated  [0.0495 0.0495 0.0495]\n",
      "\n",
      "Stopping search: Swarm best objective change less than 1e-08\n",
      "Agent  1\n",
      "coop deg detected  [0.04274949 0.         0.        ]\n",
      "coop deg negociated  [0. 0. 0.]\n",
      "\n",
      "Stopping search: Swarm best objective change less than 1e-08\n",
      "Agent  2\n",
      "coop deg detected  [0.04797509 0.         0.        ]\n",
      "coop deg negociated  [0. 0. 0.]\n",
      "\n",
      "[[0.0495 0.0495 0.0495]\n",
      " [0.     0.     0.    ]\n",
      " [0.     0.     0.    ]]\n",
      "Env C, episode  2\n",
      "Stopping search: Swarm best objective change less than 1e-08\n"
     ]
    },
    {
     "name": "stdout",
     "output_type": "stream",
     "text": [
      "Stopping search: Swarm best objective change less than 1e-08\n",
      "Agent  0\n",
      "coop deg detected  [0. 0. 0.]\n",
      "coop deg negociated  [0.04995 0.04995 0.04995]\n",
      "\n",
      "Stopping search: Swarm best objective change less than 1e-08\n",
      "Agent  1\n",
      "coop deg detected  [0.04957823 0.         0.        ]\n",
      "coop deg negociated  [0. 0. 0.]\n",
      "\n",
      "Stopping search: Swarm best objective change less than 1e-08\n",
      "Agent  2\n",
      "coop deg detected  [0.05085695 0.         0.        ]\n",
      "coop deg negociated  [0. 0. 0.]\n",
      "\n",
      "[[0.04995 0.04995 0.04995]\n",
      " [0.      0.      0.     ]\n",
      " [0.      0.      0.     ]]\n",
      "Env C, episode  3\n",
      "Stopping search: Swarm best objective change less than 1e-08\n",
      "Stopping search: Swarm best objective change less than 1e-08\n",
      "Agent  0\n",
      "coop deg detected  [0. 0. 0.]\n",
      "coop deg negociated  [0.049995 0.049995 0.049995]\n",
      "\n",
      "Stopping search: Swarm best objective change less than 1e-08\n",
      "Agent  1\n",
      "coop deg detected  [0.05236181 0.         0.        ]\n",
      "coop deg negociated  [0. 0. 0.]\n",
      "\n",
      "Stopping search: Swarm best objective change less than 1e-08\n",
      "Agent  2\n",
      "coop deg detected  [0.0506226 0.        0.       ]\n",
      "coop deg negociated  [0. 0. 0.]\n",
      "\n",
      "[[0.049995 0.049995 0.049995]\n",
      " [0.       0.       0.      ]\n",
      " [0.       0.       0.      ]]\n",
      "Env C, episode  4\n",
      "Stopping search: Swarm best objective change less than 1e-08\n",
      "Stopping search: Swarm best objective change less than 1e-08\n",
      "Agent  0\n",
      "coop deg detected  [0. 0. 0.]\n",
      "coop deg negociated  [0.0499995 0.0499995 0.0499995]\n",
      "\n",
      "Stopping search: Swarm best objective change less than 1e-08\n",
      "Agent  1\n",
      "coop deg detected  [0.05044131 0.         0.        ]\n",
      "coop deg negociated  [0. 0. 0.]\n",
      "\n",
      "Stopping search: Swarm best objective change less than 1e-08\n",
      "Agent  2\n",
      "coop deg detected  [0.05130434 0.         0.        ]\n",
      "coop deg negociated  [0. 0. 0.]\n",
      "\n",
      "[[0.0499995 0.0499995 0.0499995]\n",
      " [0.        0.        0.       ]\n",
      " [0.        0.        0.       ]]\n",
      "Env C, episode  5\n",
      "Stopping search: Swarm best objective change less than 1e-08\n",
      "Stopping search: Swarm best objective change less than 1e-08\n",
      "Agent  0\n",
      "coop deg detected  [0. 0. 0.]\n",
      "coop deg negociated  [0.04999995 0.04999995 0.04999995]\n",
      "\n",
      "Stopping search: Swarm best objective change less than 1e-08\n",
      "Agent  1\n",
      "coop deg detected  [0.05035701 0.         0.        ]\n",
      "coop deg negociated  [0. 0. 0.]\n",
      "\n",
      "Stopping search: Swarm best objective change less than 1e-08\n",
      "Agent  2\n",
      "coop deg detected  [0.05364231 0.         0.        ]\n",
      "coop deg negociated  [0. 0. 0.]\n",
      "\n",
      "[[0.04999995 0.04999995 0.04999995]\n",
      " [0.         0.         0.        ]\n",
      " [0.         0.         0.        ]]\n",
      "Env C, episode  6\n",
      "Stopping search: Swarm best objective change less than 1e-08\n",
      "Stopping search: Swarm best objective change less than 1e-08\n",
      "Agent  0\n",
      "coop deg detected  [0. 0. 0.]\n",
      "coop deg negociated  [0.05 0.05 0.05]\n",
      "\n",
      "Stopping search: Swarm best objective change less than 1e-08\n",
      "Agent  1\n",
      "coop deg detected  [0.05204141 0.         0.        ]\n",
      "coop deg negociated  [0. 0. 0.]\n",
      "\n",
      "Stopping search: Swarm best objective change less than 1e-08\n",
      "Agent  2\n",
      "coop deg detected  [0.05110083 0.         0.        ]\n",
      "coop deg negociated  [0. 0. 0.]\n",
      "\n",
      "[[0.05 0.05 0.05]\n",
      " [0.   0.   0.  ]\n",
      " [0.   0.   0.  ]]\n",
      "Env C, episode  7\n",
      "Stopping search: Swarm best objective change less than 1e-08\n",
      "Stopping search: Swarm best objective change less than 1e-08\n",
      "Agent  0\n",
      "coop deg detected  [0. 0. 0.]\n",
      "coop deg negociated  [0.05 0.05 0.05]\n",
      "\n",
      "Stopping search: Swarm best objective change less than 1e-08\n",
      "Agent  1\n",
      "coop deg detected  [0.05002379 0.         0.        ]\n",
      "coop deg negociated  [0. 0. 0.]\n",
      "\n",
      "Stopping search: Swarm best objective change less than 1e-08\n",
      "Agent  2\n",
      "coop deg detected  [0.05049152 0.         0.        ]\n",
      "coop deg negociated  [0. 0. 0.]\n",
      "\n",
      "[[0.05 0.05 0.05]\n",
      " [0.   0.   0.  ]\n",
      " [0.   0.   0.  ]]\n",
      "Env C, episode  8\n",
      "Stopping search: Swarm best objective change less than 1e-08\n",
      "Stopping search: Swarm best objective change less than 1e-08\n",
      "Agent  0\n",
      "coop deg detected  [0. 0. 0.]\n",
      "coop deg negociated  [0.05 0.05 0.05]\n",
      "\n",
      "Stopping search: Swarm best objective change less than 1e-08\n",
      "Agent  1\n",
      "coop deg detected  [0.05410235 0.         0.        ]\n",
      "coop deg negociated  [0. 0. 0.]\n",
      "\n",
      "Stopping search: Swarm best objective change less than 1e-08\n",
      "Agent  2\n",
      "coop deg detected  [0.04817005 0.         0.        ]\n",
      "coop deg negociated  [0. 0. 0.]\n",
      "\n",
      "[[0.05 0.05 0.05]\n",
      " [0.   0.   0.  ]\n",
      " [0.   0.   0.  ]]\n",
      "Env C, episode  9\n",
      "Stopping search: Swarm best objective change less than 1e-08\n",
      "Stopping search: Swarm best objective change less than 1e-08\n",
      "Agent  0\n",
      "coop deg detected  [0. 0. 0.]\n",
      "coop deg negociated  [0.05 0.05 0.05]\n",
      "\n",
      "Stopping search: Swarm best objective change less than 1e-08\n",
      "Agent  1\n",
      "coop deg detected  [0.05081535 0.         0.        ]\n",
      "coop deg negociated  [0. 0. 0.]\n",
      "\n",
      "Stopping search: Swarm best objective change less than 1e-08\n",
      "Agent  2\n",
      "coop deg detected  [0.05017197 0.         0.        ]\n",
      "coop deg negociated  [0. 0. 0.]\n",
      "\n",
      "[[0.05 0.05 0.05]\n",
      " [0.   0.   0.  ]\n",
      " [0.   0.   0.  ]]\n",
      "Env C, episode  10\n",
      "Stopping search: Swarm best objective change less than 1e-08\n",
      "Stopping search: Swarm best objective change less than 1e-08\n",
      "Agent  0\n",
      "coop deg detected  [0. 0. 0.]\n",
      "coop deg negociated  [0.05 0.05 0.05]\n",
      "\n",
      "Stopping search: Swarm best objective change less than 1e-08\n",
      "Agent  1\n",
      "coop deg detected  [0.05170765 0.         0.        ]\n",
      "coop deg negociated  [0. 0. 0.]\n",
      "\n",
      "Stopping search: Swarm best objective change less than 1e-08\n",
      "Agent  2\n",
      "coop deg detected  [0.05104102 0.         0.        ]\n",
      "coop deg negociated  [0. 0. 0.]\n",
      "\n",
      "[[0.05 0.05 0.05]\n",
      " [0.   0.   0.  ]\n",
      " [0.   0.   0.  ]]\n",
      "Env C, episode  11\n",
      "Stopping search: Swarm best objective change less than 1e-08\n",
      "Stopping search: Swarm best objective change less than 1e-08\n",
      "Agent  0\n",
      "coop deg detected  [0. 0. 0.]\n",
      "coop deg negociated  [0.05 0.05 0.05]\n",
      "\n",
      "Stopping search: Swarm best objective change less than 1e-08\n",
      "Agent  1\n",
      "coop deg detected  [0.05283982 0.         0.        ]\n",
      "coop deg negociated  [0. 0. 0.]\n",
      "\n",
      "Stopping search: Swarm best objective change less than 1e-08\n",
      "Agent  2\n",
      "coop deg detected  [0.05175599 0.         0.        ]\n",
      "coop deg negociated  [0. 0. 0.]\n",
      "\n",
      "[[0.05 0.05 0.05]\n",
      " [0.   0.   0.  ]\n",
      " [0.   0.   0.  ]]\n",
      "Env C, episode  12\n",
      "Stopping search: Swarm best objective change less than 1e-08\n",
      "Stopping search: Swarm best objective change less than 1e-08\n",
      "Agent  0\n",
      "coop deg detected  [0. 0. 0.]\n",
      "coop deg negociated  [0.05 0.05 0.05]\n",
      "\n",
      "Stopping search: Swarm best objective change less than 1e-08\n",
      "Agent  1\n",
      "coop deg detected  [0.05104082 0.         0.        ]\n",
      "coop deg negociated  [0. 0. 0.]\n",
      "\n",
      "Stopping search: Swarm best objective change less than 1e-08\n",
      "Agent  2\n",
      "coop deg detected  [0.0531064 0.        0.       ]\n",
      "coop deg negociated  [0. 0. 0.]\n",
      "\n",
      "[[0.05 0.05 0.05]\n",
      " [0.   0.   0.  ]\n",
      " [0.   0.   0.  ]]\n",
      "Env C, episode  13\n",
      "Stopping search: Swarm best objective change less than 1e-08\n",
      "Stopping search: Swarm best objective change less than 1e-08\n",
      "Agent  0\n",
      "coop deg detected  [0. 0. 0.]\n",
      "coop deg negociated  [0.05 0.05 0.05]\n",
      "\n",
      "Stopping search: Swarm best objective change less than 1e-08\n",
      "Agent  1\n",
      "coop deg detected  [0.05132789 0.         0.        ]\n",
      "coop deg negociated  [0. 0. 0.]\n",
      "\n",
      "Stopping search: Swarm best objective change less than 1e-08\n",
      "Agent  2\n",
      "coop deg detected  [0.05005323 0.         0.        ]\n",
      "coop deg negociated  [0. 0. 0.]\n",
      "\n",
      "[[0.05 0.05 0.05]\n",
      " [0.   0.   0.  ]\n",
      " [0.   0.   0.  ]]\n",
      "Env C, episode  14\n",
      "Stopping search: Swarm best objective change less than 1e-08\n",
      "Stopping search: Swarm best objective change less than 1e-08\n",
      "Agent  0\n",
      "coop deg detected  [0. 0. 0.]\n",
      "coop deg negociated  [0.05 0.05 0.05]\n",
      "\n",
      "Stopping search: Swarm best objective change less than 1e-08\n",
      "Agent  1\n",
      "coop deg detected  [0.05248849 0.         0.        ]\n",
      "coop deg negociated  [0. 0. 0.]\n",
      "\n",
      "Stopping search: Swarm best objective change less than 1e-08\n",
      "Agent  2\n",
      "coop deg detected  [0.05171827 0.         0.        ]\n",
      "coop deg negociated  [0. 0. 0.]\n",
      "\n",
      "[[0.05 0.05 0.05]\n",
      " [0.   0.   0.  ]\n",
      " [0.   0.   0.  ]]\n",
      "3.3103780723766416 3.504279961168541 2.4452657901439414 2.772588737239781\n",
      "Stopping search: Swarm best objective change less than 1e-08\n",
      "Env A, episode  0\n",
      "Stopping search: Swarm best objective change less than 1e-08\n",
      "Stopping search: Swarm best objective change less than 1e-08\n",
      "Agent  0\n",
      "coop deg detected  [0. 0. 0.]\n",
      "coop deg negociated  [0.018 0.018 0.018]\n",
      "\n",
      "Stopping search: Swarm best objective change less than 1e-08\n",
      "Agent  1\n",
      "coop deg detected  [0. 0. 0.]\n",
      "coop deg negociated  [0.018 0.018 0.018]\n",
      "\n"
     ]
    },
    {
     "name": "stdout",
     "output_type": "stream",
     "text": [
      "Stopping search: Swarm best objective change less than 1e-08\n",
      "Agent  2\n",
      "coop deg detected  [0. 0. 0.]\n",
      "coop deg negociated  [0.018 0.018 0.018]\n",
      "\n",
      "[[0.018 0.018 0.018]\n",
      " [0.018 0.018 0.018]\n",
      " [0.018 0.018 0.018]]\n",
      "Env A, episode  1\n",
      "Stopping search: Swarm best objective change less than 1e-08\n",
      "Stopping search: Swarm best objective change less than 1e-08\n",
      "Agent  0\n",
      "coop deg detected  [0.         0.01788671 0.01858006]\n",
      "coop deg negociated  [0.0198     0.03557608 0.03618761]\n",
      "\n",
      "Stopping search: Swarm best objective change less than 1e-08\n",
      "Agent  1\n",
      "coop deg detected  [0.01846567 0.         0.01837363]\n",
      "coop deg negociated  [0.03608672 0.0198     0.03600554]\n",
      "\n",
      "Stopping search: Swarm best objective change less than 1e-08\n",
      "Agent  2\n",
      "coop deg detected  [0.01778643 0.01827914 0.        ]\n",
      "coop deg negociated  [0.03548763 0.03592221 0.0198    ]\n",
      "\n",
      "[[0.0198     0.03557608 0.03618761]\n",
      " [0.03608672 0.0198     0.03600554]\n",
      " [0.03548763 0.03592221 0.0198    ]]\n",
      "Env A, episode  2\n",
      "Stopping search: Swarm best objective change less than 1e-08\n",
      "Stopping search: Swarm best objective change less than 1e-08\n",
      "Agent  0\n",
      "coop deg detected  [0.         0.03690496 0.03962685]\n",
      "coop deg negociated  [0.01998    0.05410778 0.05656964]\n",
      "\n",
      "Stopping search: Swarm best objective change less than 1e-08\n",
      "Agent  1\n",
      "coop deg detected  [0.0394353  0.         0.03631184]\n",
      "coop deg negociated  [0.0563906  0.01998    0.05362759]\n",
      "\n",
      "Stopping search: Swarm best objective change less than 1e-08\n",
      "Agent  2\n",
      "coop deg detected  [0.03447176 0.03657949 0.        ]\n",
      "coop deg negociated  [0.05195286 0.05385533 0.01998   ]\n",
      "\n",
      "[[0.01998    0.05410778 0.05656964]\n",
      " [0.0563906  0.01998    0.05362759]\n",
      " [0.05195286 0.05385533 0.01998   ]]\n",
      "Env A, episode  3\n",
      "Stopping search: Swarm best objective change less than 1e-08\n",
      "Stopping search: Swarm best objective change less than 1e-08\n",
      "Agent  0\n",
      "coop deg detected  [0.         0.05753812 0.0573963 ]\n",
      "coop deg negociated  [0.019998  0.0741594 0.0742805]\n",
      "\n",
      "Stopping search: Swarm best objective change less than 1e-08\n",
      "Agent  1\n",
      "coop deg detected  [0.05607932 0.         0.05600234]\n",
      "coop deg negociated  [0.07310102 0.019998   0.07275682]\n",
      "\n",
      "Stopping search: Swarm best objective change less than 1e-08\n",
      "Agent  2\n",
      "coop deg detected  [0.06256057 0.0572725  0.        ]\n",
      "coop deg negociated  [0.07837371 0.07389988 0.019998  ]\n",
      "\n",
      "[[0.019998   0.0741594  0.0742805 ]\n",
      " [0.07310102 0.019998   0.07275682]\n",
      " [0.07837371 0.07389988 0.019998  ]]\n",
      "Env A, episode  4\n",
      "Stopping search: Swarm best objective change less than 1e-08\n",
      "Stopping search: Swarm best objective change less than 1e-08\n",
      "Agent  0\n",
      "coop deg detected  [0.         0.08184158 0.08369773]\n",
      "coop deg negociated  [0.0199998  0.09760021 0.09924945]\n",
      "\n",
      "Stopping search: Swarm best objective change less than 1e-08\n",
      "Agent  1\n",
      "coop deg detected  [0.08045641 0.         0.08028776]\n",
      "coop deg negociated  [0.09627265 0.0199998  0.09608949]\n",
      "\n",
      "Stopping search: Swarm best objective change less than 1e-08\n",
      "Agent  2\n",
      "coop deg detected  [0.07801664 0.07688571 0.        ]\n",
      "coop deg negociated  [0.09464805 0.09320318 0.0199998 ]\n",
      "\n",
      "[[0.0199998  0.09760021 0.09924945]\n",
      " [0.09627265 0.0199998  0.09608949]\n",
      " [0.09464805 0.09320318 0.0199998 ]]\n",
      "Env A, episode  5\n",
      "Stopping search: Swarm best objective change less than 1e-08\n",
      "Stopping search: Swarm best objective change less than 1e-08\n",
      "Agent  0\n",
      "coop deg detected  [0.        0.1022785 0.1032019]\n",
      "coop deg negociated  [0.01999998 0.11796966 0.11894902]\n",
      "\n",
      "Stopping search: Swarm best objective change less than 1e-08\n",
      "Agent  1\n",
      "coop deg detected  [0.10957162 0.         0.1044737 ]\n",
      "coop deg negociated  [0.12426944 0.01999998 0.11975475]\n",
      "\n",
      "Stopping search: Swarm best objective change less than 1e-08\n",
      "Agent  2\n",
      "coop deg detected  [0.10942509 0.10566836 0.        ]\n",
      "coop deg negociated  [0.12397774 0.12051981 0.01999998]\n",
      "\n",
      "[[0.01999998 0.11796966 0.11894902]\n",
      " [0.12426944 0.01999998 0.11975475]\n",
      " [0.12397774 0.12051981 0.01999998]]\n",
      "Env A, episode  6\n",
      "Stopping search: Swarm best objective change less than 1e-08\n",
      "Stopping search: Swarm best objective change less than 1e-08\n",
      "Agent  0\n",
      "coop deg detected  [0.         0.13885724 0.14317842]\n",
      "coop deg negociated  [0.02       0.15226905 0.15617827]\n",
      "\n",
      "Stopping search: Swarm best objective change less than 1e-08\n",
      "Agent  1\n",
      "coop deg detected  [0.13974256 0.         0.13955279]\n",
      "coop deg negociated  [0.15367988 0.02       0.15306104]\n",
      "\n",
      "Stopping search: Swarm best objective change less than 1e-08\n",
      "Agent  2\n",
      "coop deg detected  [0.13131967 0.13560781 0.        ]\n",
      "coop deg negociated  [0.14622172 0.14965807 0.02      ]\n",
      "\n",
      "[[0.02       0.15226905 0.15617827]\n",
      " [0.15367988 0.02       0.15306104]\n",
      " [0.14622172 0.14965807 0.02      ]]\n",
      "Env A, episode  7\n",
      "Stopping search: Swarm best objective change less than 1e-08\n",
      "Stopping search: Swarm best objective change less than 1e-08\n",
      "Agent  0\n",
      "coop deg detected  [0.         0.17810127 0.1705128 ]\n",
      "coop deg negociated  [0.02       0.19031222 0.18401011]\n",
      "\n",
      "Stopping search: Swarm best objective change less than 1e-08\n",
      "Agent  1\n",
      "coop deg detected  [0.18039739 0.         0.18169792]\n",
      "coop deg negociated  [0.19247849 0.02       0.19356367]\n",
      "\n",
      "Stopping search: Swarm best objective change less than 1e-08\n",
      "Agent  2\n",
      "coop deg detected  [0.18178794 0.18237955 0.        ]\n",
      "coop deg negociated  [0.19295913 0.19382457 0.02      ]\n",
      "\n",
      "[[0.02       0.19031222 0.18401011]\n",
      " [0.19247849 0.02       0.19356367]\n",
      " [0.19295913 0.19382457 0.02      ]]\n",
      "Env A, episode  8\n",
      "Stopping search: Swarm best objective change less than 1e-08\n",
      "Stopping search: Swarm best objective change less than 1e-08\n",
      "Agent  0\n",
      "coop deg detected  [0.         0.2369618  0.25036242]\n",
      "coop deg negociated  [0.02       0.24603153 0.25722067]\n",
      "\n",
      "Stopping search: Swarm best objective change less than 1e-08\n",
      "Agent  1\n",
      "coop deg detected  [0.23226641 0.         0.22018621]\n",
      "coop deg negociated  [0.24210682 0.02       0.23156061]\n",
      "\n",
      "Stopping search: Swarm best objective change less than 1e-08\n",
      "Agent  2\n",
      "coop deg detected  [0.22208671 0.24114151 0.        ]\n",
      "coop deg negociated  [0.23317639 0.25006927 0.02      ]\n",
      "\n",
      "[[0.02       0.24603153 0.25722067]\n",
      " [0.24210682 0.02       0.23156061]\n",
      " [0.23317639 0.25006927 0.02      ]]\n",
      "Env A, episode  9\n",
      "Stopping search: Swarm best objective change less than 1e-08\n",
      "Stopping search: Swarm best objective change less than 1e-08\n",
      "Agent  0\n",
      "coop deg detected  [0.         0.31989482 0.31327286]\n",
      "coop deg negociated  [0.02       0.32475038 0.32002873]\n",
      "\n",
      "Stopping search: Swarm best objective change less than 1e-08\n",
      "Agent  1\n",
      "coop deg detected  [0.3192509  0.         0.34159989]\n",
      "coop deg negociated  [0.32378998 0.02       0.34244717]\n",
      "\n",
      "Stopping search: Swarm best objective change less than 1e-08\n",
      "Agent  2\n",
      "coop deg detected  [0.34854501 0.33385575 0.        ]\n",
      "coop deg negociated  [0.34873434 0.3374677  0.02      ]\n",
      "\n",
      "[[0.02       0.32475038 0.32002873]\n",
      " [0.32378998 0.02       0.34244717]\n",
      " [0.34873434 0.3374677  0.02      ]]\n",
      "Env A, episode  10\n",
      "Stopping search: Swarm best objective change less than 1e-08\n",
      "Stopping search: Swarm best objective change less than 1e-08\n",
      "Agent  0\n",
      "coop deg detected  [0.         0.53630322 0.42928308]\n",
      "coop deg negociated  [0.02       0.52349448 0.42863055]\n",
      "\n",
      "Stopping search: Swarm best objective change less than 1e-08\n",
      "Agent  1\n",
      "coop deg detected  [0.47500112 0.         0.60373695]\n",
      "coop deg negociated  [0.46932999 0.02       0.58474071]\n",
      "\n",
      "Stopping search: Swarm best objective change less than 1e-08\n",
      "Agent  2\n",
      "coop deg detected  [0.51510807 0.45447294 0.        ]\n",
      "coop deg negociated  [0.50719875 0.4525919  0.02      ]\n",
      "\n",
      "[[0.02       0.52349448 0.42863055]\n",
      " [0.46932999 0.02       0.58474071]\n",
      " [0.50719875 0.4525919  0.02      ]]\n",
      "Env A, episode  11\n",
      "Stopping search: Swarm best objective change less than 1e-08\n",
      "Stopping search: Swarm best objective change less than 1e-08\n",
      "Agent  0\n",
      "coop deg detected  [0.         0.81657681 0.98535844]\n",
      "coop deg negociated  [0.02       0.79057019 0.9299492 ]\n",
      "\n",
      "Stopping search: Swarm best objective change less than 1e-08\n",
      "Agent  1\n",
      "coop deg detected  [1.         0.         0.78311846]\n",
      "coop deg negociated  [0.946933   0.02       0.76718455]\n",
      "\n",
      "Stopping search: Swarm best objective change less than 1e-08\n",
      "Agent  2\n",
      "coop deg detected  [0.81117867 1.         0.        ]\n",
      "coop deg negociated  [0.78417947 0.94525919 0.02      ]\n",
      "\n",
      "[[0.02       0.79057019 0.9299492 ]\n",
      " [0.946933   0.02       0.76718455]\n",
      " [0.78417947 0.94525919 0.02      ]]\n",
      "Env A, episode  12\n"
     ]
    },
    {
     "name": "stdout",
     "output_type": "stream",
     "text": [
      "Stopping search: Swarm best objective change less than 1e-08\n",
      "Stopping search: Swarm best objective change less than 1e-08\n",
      "Agent  0\n",
      "coop deg detected  [0. 1. 1.]\n",
      "coop deg negociated  [0.02       0.97905702 0.99299492]\n",
      "\n",
      "Stopping search: Swarm best objective change less than 1e-08\n",
      "Agent  1\n",
      "coop deg detected  [1. 0. 1.]\n",
      "coop deg negociated  [0.9946933  0.02       0.97671845]\n",
      "\n",
      "Stopping search: Swarm best objective change less than 1e-08\n",
      "Agent  2\n",
      "coop deg detected  [1. 1. 0.]\n",
      "coop deg negociated  [0.97841795 0.99452592 0.02      ]\n",
      "\n",
      "[[0.02       0.97905702 0.99299492]\n",
      " [0.9946933  0.02       0.97671845]\n",
      " [0.97841795 0.99452592 0.02      ]]\n",
      "Env A, episode  13\n",
      "Stopping search: Swarm best objective change less than 1e-08\n",
      "Stopping search: Swarm best objective change less than 1e-08\n",
      "Agent  0\n",
      "coop deg detected  [0. 1. 1.]\n",
      "coop deg negociated  [0.02       0.9979057  0.99929949]\n",
      "\n",
      "Stopping search: Swarm best objective change less than 1e-08\n",
      "Agent  1\n",
      "coop deg detected  [1. 0. 1.]\n",
      "coop deg negociated  [0.99946933 0.02       0.99767185]\n",
      "\n",
      "Stopping search: Swarm best objective change less than 1e-08\n",
      "Agent  2\n",
      "coop deg detected  [1. 1. 0.]\n",
      "coop deg negociated  [0.99784179 0.99945259 0.02      ]\n",
      "\n",
      "[[0.02       0.9979057  0.99929949]\n",
      " [0.99946933 0.02       0.99767185]\n",
      " [0.99784179 0.99945259 0.02      ]]\n",
      "Env A, episode  14\n",
      "Stopping search: Swarm best objective change less than 1e-08\n",
      "Stopping search: Swarm best objective change less than 1e-08\n",
      "Agent  0\n",
      "coop deg detected  [0. 0. 1.]\n",
      "coop deg negociated  [0.02       0.11779057 0.99992995]\n",
      "\n",
      "Stopping search: Swarm best objective change less than 1e-08\n",
      "Agent  1\n",
      "coop deg detected  [0.68928748 0.         1.        ]\n",
      "coop deg negociated  [0.72589849 0.02       0.99976718]\n",
      "\n",
      "Stopping search: Swarm best objective change less than 1e-08\n",
      "Agent  2\n",
      "coop deg detected  [1. 1. 0.]\n",
      "coop deg negociated  [0.99978418 0.99994526 0.02      ]\n",
      "\n",
      "[[0.02       0.11779057 0.99992995]\n",
      " [0.72589849 0.02       0.99976718]\n",
      " [0.99978418 0.99994526 0.02      ]]\n",
      "Env B, episode  0\n",
      "Stopping search: Swarm best objective change less than 1e-08\n",
      "Stopping search: Swarm best objective change less than 1e-08\n",
      "Agent  0\n",
      "coop deg detected  [0. 0. 0.]\n",
      "coop deg negociated  [0.018 0.018 0.018]\n",
      "\n",
      "Stopping search: Swarm best objective change less than 1e-08\n",
      "Agent  1\n",
      "coop deg detected  [0. 0. 0.]\n",
      "coop deg negociated  [0.018 0.018 0.018]\n",
      "\n",
      "Stopping search: Swarm best objective change less than 1e-08\n",
      "Agent  2\n",
      "coop deg detected  [0. 0. 0.]\n",
      "coop deg negociated  [0. 0. 0.]\n",
      "\n",
      "[[0.018 0.018 0.018]\n",
      " [0.018 0.018 0.018]\n",
      " [0.    0.    0.   ]]\n",
      "Env B, episode  1\n",
      "Stopping search: Swarm best objective change less than 1e-08\n",
      "Stopping search: Swarm best objective change less than 1e-08\n",
      "Agent  0\n",
      "coop deg detected  [0.         0.01807091 0.        ]\n",
      "coop deg negociated  [0.0198     0.03573855 0.0198    ]\n",
      "\n",
      "Stopping search: Swarm best objective change less than 1e-08\n",
      "Agent  1\n",
      "coop deg detected  [0.018459 0.       0.      ]\n",
      "coop deg negociated  [0.03608084 0.0198     0.0198    ]\n",
      "\n",
      "Stopping search: Swarm best objective change less than 1e-08\n",
      "Agent  2\n",
      "coop deg detected  [0.01797192 0.0181135  0.        ]\n",
      "coop deg negociated  [0. 0. 0.]\n",
      "\n",
      "[[0.0198     0.03573855 0.0198    ]\n",
      " [0.03608084 0.0198     0.0198    ]\n",
      " [0.         0.         0.        ]]\n",
      "Env B, episode  2\n",
      "Stopping search: Swarm best objective change less than 1e-08\n",
      "Stopping search: Swarm best objective change less than 1e-08\n",
      "Agent  0\n",
      "coop deg detected  [0.         0.03670056 0.        ]\n",
      "coop deg negociated  [0.01998    0.05394375 0.01998   ]\n",
      "\n",
      "Stopping search: Swarm best objective change less than 1e-08\n",
      "Agent  1\n",
      "coop deg detected  [0.03621784 0.         0.        ]\n",
      "coop deg negociated  [0.05355222 0.01998    0.01998   ]\n",
      "\n",
      "Stopping search: Swarm best objective change less than 1e-08\n",
      "Agent  2\n",
      "coop deg detected  [0.0202628  0.01894987 0.        ]\n",
      "coop deg negociated  [0. 0. 0.]\n",
      "\n",
      "[[0.01998    0.05394375 0.01998   ]\n",
      " [0.05355222 0.01998    0.01998   ]\n",
      " [0.         0.         0.        ]]\n",
      "Env B, episode  3\n",
      "Stopping search: Swarm best objective change less than 1e-08\n",
      "Stopping search: Swarm best objective change less than 1e-08\n",
      "Agent  0\n",
      "coop deg detected  [0.         0.05647418 0.        ]\n",
      "coop deg negociated  [0.019998  0.0732046 0.019998 ]\n",
      "\n",
      "Stopping search: Swarm best objective change less than 1e-08\n",
      "Agent  1\n",
      "coop deg detected  [0.05618188 0.         0.        ]\n",
      "coop deg negociated  [0.07290764 0.019998   0.019998  ]\n",
      "\n",
      "Stopping search: Swarm best objective change less than 1e-08\n",
      "Agent  2\n",
      "coop deg detected  [0.0211671  0.02010971 0.        ]\n",
      "coop deg negociated  [0. 0. 0.]\n",
      "\n",
      "[[0.019998   0.0732046  0.019998  ]\n",
      " [0.07290764 0.019998   0.019998  ]\n",
      " [0.         0.         0.        ]]\n",
      "Env B, episode  4\n",
      "Stopping search: Swarm best objective change less than 1e-08\n",
      "Stopping search: Swarm best objective change less than 1e-08\n",
      "Agent  0\n",
      "coop deg detected  [0.         0.07229255 0.        ]\n",
      "coop deg negociated  [0.0199998  0.08908249 0.0199998 ]\n",
      "\n",
      "Stopping search: Swarm best objective change less than 1e-08\n",
      "Agent  1\n",
      "coop deg detected  [0.07296944 0.         0.        ]\n",
      "coop deg negociated  [0.08964981 0.0199998  0.0199998 ]\n",
      "\n",
      "Stopping search: Swarm best objective change less than 1e-08\n",
      "Agent  2\n",
      "coop deg detected  [0.02104312 0.02086346 0.        ]\n",
      "coop deg negociated  [0. 0. 0.]\n",
      "\n",
      "[[0.0199998  0.08908249 0.0199998 ]\n",
      " [0.08964981 0.0199998  0.0199998 ]\n",
      " [0.         0.         0.        ]]\n",
      "Env B, episode  5\n",
      "Stopping search: Swarm best objective change less than 1e-08\n",
      "Stopping search: Swarm best objective change less than 1e-08\n",
      "Agent  0\n",
      "coop deg detected  [0.         0.08776299 0.        ]\n",
      "coop deg negociated  [0.01999998 0.10431521 0.01999998]\n",
      "\n",
      "Stopping search: Swarm best objective change less than 1e-08\n",
      "Agent  1\n",
      "coop deg detected  [0.08684436 0.         0.        ]\n",
      "coop deg negociated  [0.1035617  0.01999998 0.01999998]\n",
      "\n",
      "Stopping search: Swarm best objective change less than 1e-08\n",
      "Agent  2\n",
      "coop deg detected  [0.02020127 0.02081128 0.        ]\n",
      "coop deg negociated  [0. 0. 0.]\n",
      "\n",
      "[[0.01999998 0.10431521 0.01999998]\n",
      " [0.1035617  0.01999998 0.01999998]\n",
      " [0.         0.         0.        ]]\n",
      "Env B, episode  6\n",
      "Stopping search: Swarm best objective change less than 1e-08\n",
      "Stopping search: Swarm best objective change less than 1e-08\n",
      "Agent  0\n",
      "coop deg detected  [0.         0.09824436 0.        ]\n",
      "coop deg negociated  [0.02       0.11508304 0.02      ]\n",
      "\n",
      "Stopping search: Swarm best objective change less than 1e-08\n",
      "Agent  1\n",
      "coop deg detected  [0.10001959 0.         0.        ]\n",
      "coop deg negociated  [0.11657345 0.02       0.02      ]\n",
      "\n",
      "Stopping search: Swarm best objective change less than 1e-08\n",
      "Agent  2\n",
      "coop deg detected  [0.02020062 0.02021116 0.        ]\n",
      "coop deg negociated  [0. 0. 0.]\n",
      "\n",
      "[[0.02       0.11508304 0.02      ]\n",
      " [0.11657345 0.02       0.02      ]\n",
      " [0.         0.         0.        ]]\n",
      "Env B, episode  7\n",
      "Stopping search: Swarm best objective change less than 1e-08\n",
      "Stopping search: Swarm best objective change less than 1e-08\n",
      "Agent  0\n",
      "coop deg detected  [0.        0.1061242 0.       ]\n",
      "coop deg negociated  [0.02       0.12310985 0.02      ]\n",
      "\n",
      "Stopping search: Swarm best objective change less than 1e-08\n",
      "Agent  1\n",
      "coop deg detected  [0.10441337 0.         0.        ]\n",
      "coop deg negociated  [0.12174994 0.02       0.02      ]\n",
      "\n",
      "Stopping search: Swarm best objective change less than 1e-08\n",
      "Agent  2\n",
      "coop deg detected  [0.02060069 0.02026267 0.        ]\n",
      "coop deg negociated  [0. 0. 0.]\n",
      "\n",
      "[[0.02       0.12310985 0.02      ]\n",
      " [0.12174994 0.02       0.02      ]\n",
      " [0.         0.         0.        ]]\n",
      "Env B, episode  8\n",
      "Stopping search: Swarm best objective change less than 1e-08\n",
      "Stopping search: Swarm best objective change less than 1e-08\n",
      "Agent  0\n",
      "coop deg detected  [0.         0.11078774 0.        ]\n",
      "coop deg negociated  [0.02       0.12802577 0.02      ]\n",
      "\n",
      "Stopping search: Swarm best objective change less than 1e-08\n",
      "Agent  1\n",
      "coop deg detected  [0.1097402 0.        0.       ]\n",
      "coop deg negociated  [0.12696585 0.02       0.02      ]\n",
      "\n",
      "Stopping search: Swarm best objective change less than 1e-08\n",
      "Agent  2\n",
      "coop deg detected  [0.01982211 0.02073911 0.        ]\n",
      "coop deg negociated  [0. 0. 0.]\n",
      "\n",
      "[[0.02       0.12802577 0.02      ]\n",
      " [0.12696585 0.02       0.02      ]\n",
      " [0.         0.         0.        ]]\n",
      "Env B, episode  9\n"
     ]
    },
    {
     "name": "stdout",
     "output_type": "stream",
     "text": [
      "Stopping search: Swarm best objective change less than 1e-08\n",
      "Stopping search: Swarm best objective change less than 1e-08\n",
      "Agent  0\n",
      "coop deg detected  [0.         0.10185517 0.        ]\n",
      "coop deg negociated  [0.02       0.12063884 0.02      ]\n",
      "\n",
      "Stopping search: Swarm best objective change less than 1e-08\n",
      "Agent  1\n",
      "coop deg detected  [0.10775691 0.         0.        ]\n",
      "coop deg negociated  [0.12573818 0.02       0.02      ]\n",
      "\n",
      "Stopping search: Swarm best objective change less than 1e-08\n",
      "Agent  2\n",
      "coop deg detected  [0.01910841 0.0208833  0.        ]\n",
      "coop deg negociated  [0. 0. 0.]\n",
      "\n",
      "[[0.02       0.12063884 0.02      ]\n",
      " [0.12573818 0.02       0.02      ]\n",
      " [0.         0.         0.        ]]\n",
      "Env B, episode  10\n",
      "Stopping search: Swarm best objective change less than 1e-08\n",
      "Stopping search: Swarm best objective change less than 1e-08\n",
      "Agent  0\n",
      "coop deg detected  [0.         0.10615534 0.        ]\n",
      "coop deg negociated  [0.02       0.12369289 0.02      ]\n",
      "\n",
      "Stopping search: Swarm best objective change less than 1e-08\n",
      "Agent  1\n",
      "coop deg detected  [0.0901709 0.        0.       ]\n",
      "coop deg negociated  [0.11010455 0.02       0.02      ]\n",
      "\n",
      "Stopping search: Swarm best objective change less than 1e-08\n",
      "Agent  2\n",
      "coop deg detected  [0.02021425 0.01937679 0.        ]\n",
      "coop deg negociated  [0. 0. 0.]\n",
      "\n",
      "[[0.02       0.12369289 0.02      ]\n",
      " [0.11010455 0.02       0.02      ]\n",
      " [0.         0.         0.        ]]\n",
      "Env B, episode  11\n",
      "Stopping search: Swarm best objective change less than 1e-08\n",
      "Stopping search: Swarm best objective change less than 1e-08\n",
      "Agent  0\n",
      "coop deg detected  [0.         0.08076698 0.        ]\n",
      "coop deg negociated  [0.02       0.10160577 0.02      ]\n",
      "\n",
      "Stopping search: Swarm best objective change less than 1e-08\n",
      "Agent  1\n",
      "coop deg detected  [0.08357711 0.         0.        ]\n",
      "coop deg negociated  [0.10272546 0.02       0.02      ]\n",
      "\n",
      "Stopping search: Swarm best objective change less than 1e-08\n",
      "Agent  2\n",
      "coop deg detected  [0.02041353 0.01992856 0.        ]\n",
      "coop deg negociated  [0. 0. 0.]\n",
      "\n",
      "[[0.02       0.10160577 0.02      ]\n",
      " [0.10272546 0.02       0.02      ]\n",
      " [0.         0.         0.        ]]\n",
      "Env B, episode  12\n",
      "Stopping search: Swarm best objective change less than 1e-08\n",
      "Stopping search: Swarm best objective change less than 1e-08\n",
      "Agent  0\n",
      "coop deg detected  [0.         0.06774175 0.        ]\n",
      "coop deg negociated  [0.02      0.0879088 0.02     ]\n",
      "\n",
      "Stopping search: Swarm best objective change less than 1e-08\n",
      "Agent  1\n",
      "coop deg detected  [0.06001502 0.         0.        ]\n",
      "coop deg negociated  [0.08120579 0.02       0.02      ]\n",
      "\n",
      "Stopping search: Swarm best objective change less than 1e-08\n",
      "Agent  2\n",
      "coop deg detected  [0.02031356 0.02059037 0.        ]\n",
      "coop deg negociated  [0. 0. 0.]\n",
      "\n",
      "[[0.02       0.0879088  0.02      ]\n",
      " [0.08120579 0.02       0.02      ]\n",
      " [0.         0.         0.        ]]\n",
      "Env B, episode  13\n",
      "Stopping search: Swarm best objective change less than 1e-08\n",
      "Stopping search: Swarm best objective change less than 1e-08\n",
      "Agent  0\n",
      "coop deg detected  [0.         0.05264033 0.        ]\n",
      "coop deg negociated  [0.02       0.07321965 0.02      ]\n",
      "\n",
      "Stopping search: Swarm best objective change less than 1e-08\n",
      "Agent  1\n",
      "coop deg detected  [0.05831436 0.         0.        ]\n",
      "coop deg negociated  [0.07755384 0.02       0.02      ]\n",
      "\n",
      "Stopping search: Swarm best objective change less than 1e-08\n",
      "Agent  2\n",
      "coop deg detected  [0.01968943 0.02003625 0.        ]\n",
      "coop deg negociated  [0. 0. 0.]\n",
      "\n",
      "[[0.02       0.07321965 0.02      ]\n",
      " [0.07755384 0.02       0.02      ]\n",
      " [0.         0.         0.        ]]\n",
      "Env B, episode  14\n",
      "Stopping search: Swarm best objective change less than 1e-08\n",
      "Stopping search: Swarm best objective change less than 1e-08\n",
      "Agent  0\n",
      "coop deg detected  [0.        0.0419698 0.       ]\n",
      "coop deg negociated  [0.02       0.06233933 0.02      ]\n",
      "\n",
      "Stopping search: Swarm best objective change less than 1e-08\n",
      "Agent  1\n",
      "coop deg detected  [0.04760953 0.         0.        ]\n",
      "coop deg negociated  [0.06774699 0.02       0.02      ]\n",
      "\n",
      "Stopping search: Swarm best objective change less than 1e-08\n",
      "Agent  2\n",
      "coop deg detected  [0.02023915 0.02086416 0.        ]\n",
      "coop deg negociated  [0. 0. 0.]\n",
      "\n",
      "[[0.02       0.06233933 0.02      ]\n",
      " [0.06774699 0.02       0.02      ]\n",
      " [0.         0.         0.        ]]\n",
      "Env C, episode  0\n",
      "Stopping search: Swarm best objective change less than 1e-08\n",
      "Stopping search: Swarm best objective change less than 1e-08\n",
      "Agent  0\n",
      "coop deg detected  [0. 0. 0.]\n",
      "coop deg negociated  [0.018 0.018 0.018]\n",
      "\n",
      "Stopping search: Swarm best objective change less than 1e-08\n",
      "Agent  1\n",
      "coop deg detected  [0. 0. 0.]\n",
      "coop deg negociated  [0. 0. 0.]\n",
      "\n",
      "Stopping search: Swarm best objective change less than 1e-08\n",
      "Agent  2\n",
      "coop deg detected  [0. 0. 0.]\n",
      "coop deg negociated  [0. 0. 0.]\n",
      "\n",
      "[[0.018 0.018 0.018]\n",
      " [0.    0.    0.   ]\n",
      " [0.    0.    0.   ]]\n",
      "Env C, episode  1\n",
      "Stopping search: Swarm best objective change less than 1e-08\n",
      "Stopping search: Swarm best objective change less than 1e-08\n",
      "Agent  0\n",
      "coop deg detected  [0. 0. 0.]\n",
      "coop deg negociated  [0.0198 0.0198 0.0198]\n",
      "\n",
      "Stopping search: Swarm best objective change less than 1e-08\n",
      "Agent  1\n",
      "coop deg detected  [0.01795431 0.         0.        ]\n",
      "coop deg negociated  [0. 0. 0.]\n",
      "\n",
      "Stopping search: Swarm best objective change less than 1e-08\n",
      "Agent  2\n",
      "coop deg detected  [0.01832308 0.         0.        ]\n",
      "coop deg negociated  [0. 0. 0.]\n",
      "\n",
      "[[0.0198 0.0198 0.0198]\n",
      " [0.     0.     0.    ]\n",
      " [0.     0.     0.    ]]\n",
      "Env C, episode  2\n",
      "Stopping search: Swarm best objective change less than 1e-08\n",
      "Stopping search: Swarm best objective change less than 1e-08\n",
      "Agent  0\n",
      "coop deg detected  [0. 0. 0.]\n",
      "coop deg negociated  [0.01998 0.01998 0.01998]\n",
      "\n",
      "Stopping search: Swarm best objective change less than 1e-08\n",
      "Agent  1\n",
      "coop deg detected  [0.01917805 0.         0.        ]\n",
      "coop deg negociated  [0. 0. 0.]\n",
      "\n",
      "Stopping search: Swarm best objective change less than 1e-08\n",
      "Agent  2\n",
      "coop deg detected  [0.0201201 0.        0.       ]\n",
      "coop deg negociated  [0. 0. 0.]\n",
      "\n",
      "[[0.01998 0.01998 0.01998]\n",
      " [0.      0.      0.     ]\n",
      " [0.      0.      0.     ]]\n",
      "Env C, episode  3\n",
      "Stopping search: Swarm best objective change less than 1e-08\n",
      "Stopping search: Swarm best objective change less than 1e-08\n",
      "Agent  0\n",
      "coop deg detected  [0. 0. 0.]\n",
      "coop deg negociated  [0.019998 0.019998 0.019998]\n",
      "\n",
      "Stopping search: Swarm best objective change less than 1e-08\n",
      "Agent  1\n",
      "coop deg detected  [0.02003327 0.         0.        ]\n",
      "coop deg negociated  [0. 0. 0.]\n",
      "\n",
      "Stopping search: Swarm best objective change less than 1e-08\n",
      "Agent  2\n",
      "coop deg detected  [0.02039021 0.         0.        ]\n",
      "coop deg negociated  [0. 0. 0.]\n",
      "\n",
      "[[0.019998 0.019998 0.019998]\n",
      " [0.       0.       0.      ]\n",
      " [0.       0.       0.      ]]\n",
      "Env C, episode  4\n",
      "Stopping search: Swarm best objective change less than 1e-08\n",
      "Stopping search: Swarm best objective change less than 1e-08\n",
      "Agent  0\n",
      "coop deg detected  [0. 0. 0.]\n",
      "coop deg negociated  [0.0199998 0.0199998 0.0199998]\n",
      "\n",
      "Stopping search: Swarm best objective change less than 1e-08\n",
      "Agent  1\n",
      "coop deg detected  [0.01961326 0.         0.        ]\n",
      "coop deg negociated  [0. 0. 0.]\n",
      "\n",
      "Stopping search: Swarm best objective change less than 1e-08\n",
      "Agent  2\n",
      "coop deg detected  [0.02014236 0.         0.        ]\n",
      "coop deg negociated  [0. 0. 0.]\n",
      "\n",
      "[[0.0199998 0.0199998 0.0199998]\n",
      " [0.        0.        0.       ]\n",
      " [0.        0.        0.       ]]\n",
      "Env C, episode  5\n",
      "Stopping search: Swarm best objective change less than 1e-08\n",
      "Stopping search: Swarm best objective change less than 1e-08\n",
      "Agent  0\n",
      "coop deg detected  [0. 0. 0.]\n",
      "coop deg negociated  [0.01999998 0.01999998 0.01999998]\n",
      "\n",
      "Stopping search: Swarm best objective change less than 1e-08\n",
      "Agent  1\n",
      "coop deg detected  [0.01910146 0.         0.        ]\n",
      "coop deg negociated  [0. 0. 0.]\n",
      "\n",
      "Stopping search: Swarm best objective change less than 1e-08\n",
      "Agent  2\n",
      "coop deg detected  [0.02052542 0.         0.        ]\n",
      "coop deg negociated  [0. 0. 0.]\n",
      "\n",
      "[[0.01999998 0.01999998 0.01999998]\n",
      " [0.         0.         0.        ]\n",
      " [0.         0.         0.        ]]\n",
      "Env C, episode  6\n",
      "Stopping search: Swarm best objective change less than 1e-08\n",
      "Stopping search: Swarm best objective change less than 1e-08\n",
      "Agent  0\n",
      "coop deg detected  [0. 0. 0.]\n",
      "coop deg negociated  [0.02 0.02 0.02]\n",
      "\n",
      "Stopping search: Swarm best objective change less than 1e-08\n",
      "Agent  1\n",
      "coop deg detected  [0.02041578 0.         0.        ]\n",
      "coop deg negociated  [0. 0. 0.]\n",
      "\n"
     ]
    },
    {
     "name": "stdout",
     "output_type": "stream",
     "text": [
      "Stopping search: Swarm best objective change less than 1e-08\n",
      "Agent  2\n",
      "coop deg detected  [0.02049855 0.         0.        ]\n",
      "coop deg negociated  [0. 0. 0.]\n",
      "\n",
      "[[0.02 0.02 0.02]\n",
      " [0.   0.   0.  ]\n",
      " [0.   0.   0.  ]]\n",
      "Env C, episode  7\n",
      "Stopping search: Swarm best objective change less than 1e-08\n",
      "Stopping search: Swarm best objective change less than 1e-08\n",
      "Agent  0\n",
      "coop deg detected  [0. 0. 0.]\n",
      "coop deg negociated  [0.02 0.02 0.02]\n",
      "\n",
      "Stopping search: Swarm best objective change less than 1e-08\n",
      "Agent  1\n",
      "coop deg detected  [0.01918052 0.         0.        ]\n",
      "coop deg negociated  [0. 0. 0.]\n",
      "\n",
      "Stopping search: Swarm best objective change less than 1e-08\n",
      "Agent  2\n",
      "coop deg detected  [0.02021489 0.         0.        ]\n",
      "coop deg negociated  [0. 0. 0.]\n",
      "\n",
      "[[0.02 0.02 0.02]\n",
      " [0.   0.   0.  ]\n",
      " [0.   0.   0.  ]]\n",
      "Env C, episode  8\n",
      "Stopping search: Swarm best objective change less than 1e-08\n",
      "Stopping search: Swarm best objective change less than 1e-08\n",
      "Agent  0\n",
      "coop deg detected  [0. 0. 0.]\n",
      "coop deg negociated  [0.02 0.02 0.02]\n",
      "\n",
      "Stopping search: Swarm best objective change less than 1e-08\n",
      "Agent  1\n",
      "coop deg detected  [0.02025395 0.         0.        ]\n",
      "coop deg negociated  [0. 0. 0.]\n",
      "\n",
      "Stopping search: Swarm best objective change less than 1e-08\n",
      "Agent  2\n",
      "coop deg detected  [0.01997786 0.         0.        ]\n",
      "coop deg negociated  [0. 0. 0.]\n",
      "\n",
      "[[0.02 0.02 0.02]\n",
      " [0.   0.   0.  ]\n",
      " [0.   0.   0.  ]]\n",
      "Env C, episode  9\n",
      "Stopping search: Swarm best objective change less than 1e-08\n",
      "Stopping search: Swarm best objective change less than 1e-08\n",
      "Agent  0\n",
      "coop deg detected  [0. 0. 0.]\n",
      "coop deg negociated  [0.02 0.02 0.02]\n",
      "\n",
      "Stopping search: Swarm best objective change less than 1e-08\n",
      "Agent  1\n",
      "coop deg detected  [0.02035969 0.         0.        ]\n",
      "coop deg negociated  [0. 0. 0.]\n",
      "\n",
      "Stopping search: Swarm best objective change less than 1e-08\n",
      "Agent  2\n",
      "coop deg detected  [0.01976588 0.         0.        ]\n",
      "coop deg negociated  [0. 0. 0.]\n",
      "\n",
      "[[0.02 0.02 0.02]\n",
      " [0.   0.   0.  ]\n",
      " [0.   0.   0.  ]]\n",
      "Env C, episode  10\n",
      "Stopping search: Swarm best objective change less than 1e-08\n",
      "Stopping search: Swarm best objective change less than 1e-08\n",
      "Agent  0\n",
      "coop deg detected  [0. 0. 0.]\n",
      "coop deg negociated  [0.02 0.02 0.02]\n",
      "\n",
      "Stopping search: Swarm best objective change less than 1e-08\n",
      "Agent  1\n",
      "coop deg detected  [0.02075142 0.         0.        ]\n",
      "coop deg negociated  [0. 0. 0.]\n",
      "\n",
      "Stopping search: Swarm best objective change less than 1e-08\n",
      "Agent  2\n",
      "coop deg detected  [0.0195016 0.        0.       ]\n",
      "coop deg negociated  [0. 0. 0.]\n",
      "\n",
      "[[0.02 0.02 0.02]\n",
      " [0.   0.   0.  ]\n",
      " [0.   0.   0.  ]]\n",
      "Env C, episode  11\n",
      "Stopping search: Swarm best objective change less than 1e-08\n",
      "Stopping search: Swarm best objective change less than 1e-08\n",
      "Agent  0\n",
      "coop deg detected  [0. 0. 0.]\n",
      "coop deg negociated  [0.02 0.02 0.02]\n",
      "\n",
      "Stopping search: Swarm best objective change less than 1e-08\n",
      "Agent  1\n",
      "coop deg detected  [0.02060818 0.         0.        ]\n",
      "coop deg negociated  [0. 0. 0.]\n",
      "\n",
      "Stopping search: Swarm best objective change less than 1e-08\n",
      "Agent  2\n",
      "coop deg detected  [0.02056678 0.         0.        ]\n",
      "coop deg negociated  [0. 0. 0.]\n",
      "\n",
      "[[0.02 0.02 0.02]\n",
      " [0.   0.   0.  ]\n",
      " [0.   0.   0.  ]]\n",
      "Env C, episode  12\n",
      "Stopping search: Swarm best objective change less than 1e-08\n",
      "Stopping search: Swarm best objective change less than 1e-08\n",
      "Agent  0\n",
      "coop deg detected  [0. 0. 0.]\n",
      "coop deg negociated  [0.02 0.02 0.02]\n",
      "\n",
      "Stopping search: Swarm best objective change less than 1e-08\n",
      "Agent  1\n",
      "coop deg detected  [0.02013357 0.         0.        ]\n",
      "coop deg negociated  [0. 0. 0.]\n",
      "\n",
      "Stopping search: Swarm best objective change less than 1e-08\n",
      "Agent  2\n",
      "coop deg detected  [0.02036354 0.         0.        ]\n",
      "coop deg negociated  [0. 0. 0.]\n",
      "\n",
      "[[0.02 0.02 0.02]\n",
      " [0.   0.   0.  ]\n",
      " [0.   0.   0.  ]]\n",
      "Env C, episode  13\n",
      "Stopping search: Swarm best objective change less than 1e-08\n",
      "Stopping search: Swarm best objective change less than 1e-08\n",
      "Agent  0\n",
      "coop deg detected  [0. 0. 0.]\n",
      "coop deg negociated  [0.02 0.02 0.02]\n",
      "\n",
      "Stopping search: Swarm best objective change less than 1e-08\n",
      "Agent  1\n",
      "coop deg detected  [0.02037892 0.         0.        ]\n",
      "coop deg negociated  [0. 0. 0.]\n",
      "\n",
      "Stopping search: Swarm best objective change less than 1e-08\n",
      "Agent  2\n",
      "coop deg detected  [0.02017792 0.         0.        ]\n",
      "coop deg negociated  [0. 0. 0.]\n",
      "\n",
      "[[0.02 0.02 0.02]\n",
      " [0.   0.   0.  ]\n",
      " [0.   0.   0.  ]]\n",
      "Env C, episode  14\n",
      "Stopping search: Swarm best objective change less than 1e-08\n",
      "Stopping search: Swarm best objective change less than 1e-08\n",
      "Agent  0\n",
      "coop deg detected  [0. 0. 0.]\n",
      "coop deg negociated  [0.02 0.02 0.02]\n",
      "\n",
      "Stopping search: Swarm best objective change less than 1e-08\n",
      "Agent  1\n",
      "coop deg detected  [0.02104192 0.         0.        ]\n",
      "coop deg negociated  [0. 0. 0.]\n",
      "\n",
      "Stopping search: Swarm best objective change less than 1e-08\n",
      "Agent  2\n",
      "coop deg detected  [0.02049954 0.         0.        ]\n",
      "coop deg negociated  [0. 0. 0.]\n",
      "\n",
      "[[0.02 0.02 0.02]\n",
      " [0.   0.   0.  ]\n",
      " [0.   0.   0.  ]]\n",
      "3.285518394360295 3.171127456883163 2.6397848495736733 2.772588737239781\n"
     ]
    },
    {
     "data": {
      "image/png": "[encoded data removed]",
      "text/plain": [
       "<Figure size 432x288 with 3 Axes>"
      ]
     },
     "metadata": {
      "needs_background": "light"
     },
     "output_type": "display_data"
    },
    {
     "data": {
      "image/png": "[encoded data removed]",
      "text/plain": [
       "<Figure size 432x288 with 3 Axes>"
      ]
     },
     "metadata": {
      "needs_background": "light"
     },
     "output_type": "display_data"
    },
    {
     "data": {
      "image/png": "[encoded data removed]",
      "text/plain": [
       "<Figure size 432x288 with 3 Axes>"
      ]
     },
     "metadata": {
      "needs_background": "light"
     },
     "output_type": "display_data"
    },
    {
     "data": {
      "image/png": "[encoded data removed]",
      "text/plain": [
       "<Figure size 432x288 with 3 Axes>"
      ]
     },
     "metadata": {
      "needs_background": "light"
     },
     "output_type": "display_data"
    },
    {
     "data": {
      "image/png": "[encoded data removed]",
      "text/plain": [
       "<Figure size 432x288 with 3 Axes>"
      ]
     },
     "metadata": {
      "needs_background": "light"
     },
     "output_type": "display_data"
    },
    {
     "data": {
      "image/png": "[encoded data removed]",
      "text/plain": [
       "<Figure size 432x288 with 3 Axes>"
      ]
     },
     "metadata": {
      "needs_background": "light"
     },
     "output_type": "display_data"
    },
    {
     "data": {
      "image/png": "[encoded data removed]",
      "text/plain": [
       "<Figure size 432x288 with 3 Axes>"
      ]
     },
     "metadata": {
      "needs_background": "light"
     },
     "output_type": "display_data"
    },
    {
     "data": {
      "image/png": "[encoded data removed]",
      "text/plain": [
       "<Figure size 432x288 with 3 Axes>"
      ]
     },
     "metadata": {
      "needs_background": "light"
     },
     "output_type": "display_data"
    },
    {
     "data": {
      "image/png": "[encoded data removed]",
      "text/plain": [
       "<Figure size 432x288 with 3 Axes>"
      ]
     },
     "metadata": {
      "needs_background": "light"
     },
     "output_type": "display_data"
    },
    {
     "data": {
      "image/png": "[encoded data removed]",
      "text/plain": [
       "<Figure size 432x288 with 3 Axes>"
      ]
     },
     "metadata": {
      "needs_background": "light"
     },
     "output_type": "display_data"
    },
    {
     "data": {
      "image/png": "[encoded data removed]",
      "text/plain": [
       "<Figure size 432x288 with 3 Axes>"
      ]
     },
     "metadata": {
      "needs_background": "light"
     },
     "output_type": "display_data"
    },
    {
     "data": {
      "image/png": "[encoded data removed]",
      "text/plain": [
       "<Figure size 432x288 with 3 Axes>"
      ]
     },
     "metadata": {
      "needs_background": "light"
     },
     "output_type": "display_data"
    },
    {
     "data": {
      "image/png": "[encoded data removed]",
      "text/plain": [
       "<Figure size 432x288 with 3 Axes>"
      ]
     },
     "metadata": {
      "needs_background": "light"
     },
     "output_type": "display_data"
    },
    {
     "data": {
      "image/png": "[encoded data removed]",
      "text/plain": [
       "<Figure size 432x288 with 3 Axes>"
      ]
     },
     "metadata": {
      "needs_background": "light"
     },
     "output_type": "display_data"
    },
    {
     "data": {
      "image/png": "[encoded data removed]",
      "text/plain": [
       "<Figure size 432x288 with 3 Axes>"
      ]
     },
     "metadata": {
      "needs_background": "light"
     },
     "output_type": "display_data"
    },
    {
     "data": {
      "image/png": "[encoded data removed]",
      "text/plain": [
       "<Figure size 432x288 with 3 Axes>"
      ]
     },
     "metadata": {
      "needs_background": "light"
     },
     "output_type": "display_data"
    },
    {
     "data": {
      "image/png": "[encoded data removed]",
      "text/plain": [
       "<Figure size 432x288 with 3 Axes>"
      ]
     },
     "metadata": {
      "needs_background": "light"
     },
     "output_type": "display_data"
    },
    {
     "data": {
      "image/png": "[encoded data removed]",
      "text/plain": [
       "<Figure size 432x288 with 3 Axes>"
      ]
     },
     "metadata": {
      "needs_background": "light"
     },
     "output_type": "display_data"
    },
    {
     "data": {
      "image/png": "[encoded data removed]",
      "text/plain": [
       "<Figure size 432x288 with 3 Axes>"
      ]
     },
     "metadata": {
      "needs_background": "light"
     },
     "output_type": "display_data"
    },
    {
     "data": {
      "image/png": "[encoded data removed]",
      "text/plain": [
       "<Figure size 432x288 with 3 Axes>"
      ]
     },
     "metadata": {
      "needs_background": "light"
     },
     "output_type": "display_data"
    },
    {
     "data": {
      "image/png": "[encoded data removed]",
      "text/plain": [
       "<Figure size 432x288 with 3 Axes>"
      ]
     },
     "metadata": {
      "needs_background": "light"
     },
     "output_type": "display_data"
    },
    {
     "data": {
      "image/png": "[encoded data removed]",
      "text/plain": [
       "<Figure size 432x288 with 3 Axes>"
      ]
     },
     "metadata": {
      "needs_background": "light"
     },
     "output_type": "display_data"
    },
    {
     "data": {
      "image/png": "[encoded data removed]",
      "text/plain": [
       "<Figure size 432x288 with 3 Axes>"
      ]
     },
     "metadata": {
      "needs_background": "light"
     },
     "output_type": "display_data"
    },
    {
     "data": {
      "image/png": "[encoded data removed]",
      "text/plain": [
       "<Figure size 432x288 with 3 Axes>"
      ]
     },
     "metadata": {
      "needs_background": "light"
     },
     "output_type": "display_data"
    },
    {
     "data": {
      "image/png": "[encoded data removed]",
      "text/plain": [
       "<Figure size 432x288 with 3 Axes>"
      ]
     },
     "metadata": {
      "needs_background": "light"
     },
     "output_type": "display_data"
    },
    {
     "data": {
      "image/png": "[encoded data removed]",
      "text/plain": [
       "<Figure size 432x288 with 3 Axes>"
      ]
     },
     "metadata": {
      "needs_background": "light"
     },
     "output_type": "display_data"
    },
    {
     "data": {
      "image/png": "[encoded data removed]",
      "text/plain": [
       "<Figure size 432x288 with 3 Axes>"
      ]
     },
     "metadata": {
      "needs_background": "light"
     },
     "output_type": "display_data"
    },
    {
     "data": {
      "image/png": "[encoded data removed]",
      "text/plain": [
       "<Figure size 432x288 with 3 Axes>"
      ]
     },
     "metadata": {
      "needs_background": "light"
     },
     "output_type": "display_data"
    },
    {
     "data": {
      "image/png": "[encoded data removed]",
      "text/plain": [
       "<Figure size 432x288 with 3 Axes>"
      ]
     },
     "metadata": {
      "needs_background": "light"
     },
     "output_type": "display_data"
    },
    {
     "data": {
      "image/png": "[encoded data removed]",
      "text/plain": [
       "<Figure size 432x288 with 3 Axes>"
      ]
     },
     "metadata": {
      "needs_background": "light"
     },
     "output_type": "display_data"
    },
    {
     "data": {
      "image/png": "[encoded data removed]",
      "text/plain": [
       "<Figure size 432x288 with 3 Axes>"
      ]
     },
     "metadata": {
      "needs_background": "light"
     },
     "output_type": "display_data"
    },
    {
     "data": {
      "image/png": "[encoded data removed]",
      "text/plain": [
       "<Figure size 432x288 with 3 Axes>"
      ]
     },
     "metadata": {
      "needs_background": "light"
     },
     "output_type": "display_data"
    },
    {
     "data": {
      "image/png": "[encoded data removed]",
      "text/plain": [
       "<Figure size 432x288 with 3 Axes>"
      ]
     },
     "metadata": {
      "needs_background": "light"
     },
     "output_type": "display_data"
    },
    {
     "data": {
      "image/png": "[encoded data removed]",
      "text/plain": [
       "<Figure size 432x288 with 3 Axes>"
      ]
     },
     "metadata": {
      "needs_background": "light"
     },
     "output_type": "display_data"
    },
    {
     "data": {
      "image/png": "[encoded data removed]",
      "text/plain": [
       "<Figure size 432x288 with 3 Axes>"
      ]
     },
     "metadata": {
      "needs_background": "light"
     },
     "output_type": "display_data"
    },
    {
     "data": {
      "image/png": "[encoded data removed]",
      "text/plain": [
       "<Figure size 432x288 with 3 Axes>"
      ]
     },
     "metadata": {
      "needs_background": "light"
     },
     "output_type": "display_data"
    },
    {
     "data": {
      "image/png": "[encoded data removed]",
      "text/plain": [
       "<Figure size 432x288 with 3 Axes>"
      ]
     },
     "metadata": {
      "needs_background": "light"
     },
     "output_type": "display_data"
    },
    {
     "data": {
      "image/png": "[encoded data removed]",
      "text/plain": [
       "<Figure size 432x288 with 3 Axes>"
      ]
     },
     "metadata": {
      "needs_background": "light"
     },
     "output_type": "display_data"
    },
    {
     "data": {
      "image/png": "[encoded data removed]",
      "text/plain": [
       "<Figure size 432x288 with 3 Axes>"
      ]
     },
     "metadata": {
      "needs_background": "light"
     },
     "output_type": "display_data"
    },
    {
     "data": {
      "image/png": "[encoded data removed]",
      "text/plain": [
       "<Figure size 432x288 with 3 Axes>"
      ]
     },
     "metadata": {
      "needs_background": "light"
     },
     "output_type": "display_data"
    },
    {
     "data": {
      "image/png": "[encoded data removed]",
      "text/plain": [
       "<Figure size 432x288 with 3 Axes>"
      ]
     },
     "metadata": {
      "needs_background": "light"
     },
     "output_type": "display_data"
    },
    {
     "data": {
      "image/png": "[encoded data removed]",
      "text/plain": [
       "<Figure size 432x288 with 3 Axes>"
      ]
     },
     "metadata": {
      "needs_background": "light"
     },
     "output_type": "display_data"
    },
    {
     "data": {
      "image/png": "[encoded data removed]",
      "text/plain": [
       "<Figure size 432x288 with 3 Axes>"
      ]
     },
     "metadata": {
      "needs_background": "light"
     },
     "output_type": "display_data"
    },
    {
     "data": {
      "image/png": "[encoded data removed]",
      "text/plain": [
       "<Figure size 432x288 with 3 Axes>"
      ]
     },
     "metadata": {
      "needs_background": "light"
     },
     "output_type": "display_data"
    },
    {
     "data": {
      "image/png": "[encoded data removed]",
      "text/plain": [
       "<Figure size 432x288 with 3 Axes>"
      ]
     },
     "metadata": {
      "needs_background": "light"
     },
     "output_type": "display_data"
    },
    {
     "data": {
      "image/png": "[encoded data removed]",
      "text/plain": [
       "<Figure size 432x288 with 3 Axes>"
      ]
     },
     "metadata": {
      "needs_background": "light"
     },
     "output_type": "display_data"
    },
    {
     "data": {
      "image/png": "[encoded data removed]",
      "text/plain": [
       "<Figure size 432x288 with 3 Axes>"
      ]
     },
     "metadata": {
      "needs_background": "light"
     },
     "output_type": "display_data"
    },
    {
     "data": {
      "image/png": "[encoded data removed]",
      "text/plain": [
       "<Figure size 432x288 with 3 Axes>"
      ]
     },
     "metadata": {
      "needs_background": "light"
     },
     "output_type": "display_data"
    },
    {
     "data": {
      "image/png": "[encoded data removed]",
      "text/plain": [
       "<Figure size 432x288 with 3 Axes>"
      ]
     },
     "metadata": {
      "needs_background": "light"
     },
     "output_type": "display_data"
    },
    {
     "data": {
      "image/png": "[encoded data removed]",
      "text/plain": [
       "<Figure size 432x288 with 3 Axes>"
      ]
     },
     "metadata": {
      "needs_background": "light"
     },
     "output_type": "display_data"
    },
    {
     "data": {
      "image/png": "[encoded data removed]",
      "text/plain": [
       "<Figure size 432x288 with 3 Axes>"
      ]
     },
     "metadata": {
      "needs_background": "light"
     },
     "output_type": "display_data"
    },
    {
     "data": {
      "image/png": "[encoded data removed]",
      "text/plain": [
       "<Figure size 432x288 with 3 Axes>"
      ]
     },
     "metadata": {
      "needs_background": "light"
     },
     "output_type": "display_data"
    },
    {
     "data": {
      "image/png": "[encoded data removed]",
      "text/plain": [
       "<Figure size 432x288 with 3 Axes>"
      ]
     },
     "metadata": {
      "needs_background": "light"
     },
     "output_type": "display_data"
    },
    {
     "data": {
      "image/png": "[encoded data removed]",
      "text/plain": [
       "<Figure size 432x288 with 3 Axes>"
      ]
     },
     "metadata": {
      "needs_background": "light"
     },
     "output_type": "display_data"
    },
    {
     "data": {
      "image/png": "[encoded data removed]",
      "text/plain": [
       "<Figure size 432x288 with 3 Axes>"
      ]
     },
     "metadata": {
      "needs_background": "light"
     },
     "output_type": "display_data"
    },
    {
     "data": {
      "image/png": "[encoded data removed]",
      "text/plain": [
       "<Figure size 432x288 with 3 Axes>"
      ]
     },
     "metadata": {
      "needs_background": "light"
     },
     "output_type": "display_data"
    },
    {
     "data": {
      "image/png": "[encoded data removed]",
      "text/plain": [
       "<Figure size 432x288 with 3 Axes>"
      ]
     },
     "metadata": {
      "needs_background": "light"
     },
     "output_type": "display_data"
    },
    {
     "data": {
      "image/png": "[encoded data removed]",
      "text/plain": [
       "<Figure size 432x288 with 3 Axes>"
      ]
     },
     "metadata": {
      "needs_background": "light"
     },
     "output_type": "display_data"
    },
    {
     "data": {
      "image/png": "[encoded data removed]",
      "text/plain": [
       "<Figure size 432x288 with 3 Axes>"
      ]
     },
     "metadata": {
      "needs_background": "light"
     },
     "output_type": "display_data"
    },
    {
     "data": {
      "image/png": "[encoded data removed]",
      "text/plain": [
       "<Figure size 432x288 with 3 Axes>"
      ]
     },
     "metadata": {
      "needs_background": "light"
     },
     "output_type": "display_data"
    },
    {
     "data": {
      "image/png": "[encoded data removed]",
      "text/plain": [
       "<Figure size 432x288 with 3 Axes>"
      ]
     },
     "metadata": {
      "needs_background": "light"
     },
     "output_type": "display_data"
    },
    {
     "data": {
      "image/png": "[encoded data removed]",
      "text/plain": [
       "<Figure size 432x288 with 3 Axes>"
      ]
     },
     "metadata": {
      "needs_background": "light"
     },
     "output_type": "display_data"
    },
    {
     "data": {
      "image/png": "[encoded data removed]",
      "text/plain": [
       "<Figure size 432x288 with 3 Axes>"
      ]
     },
     "metadata": {
      "needs_background": "light"
     },
     "output_type": "display_data"
    },
    {
     "data": {
      "image/png": "[encoded data removed]",
      "text/plain": [
       "<Figure size 432x288 with 3 Axes>"
      ]
     },
     "metadata": {
      "needs_background": "light"
     },
     "output_type": "display_data"
    },
    {
     "data": {
      "image/png": "[encoded data removed]",
      "text/plain": [
       "<Figure size 432x288 with 3 Axes>"
      ]
     },
     "metadata": {
      "needs_background": "light"
     },
     "output_type": "display_data"
    },
    {
     "data": {
      "image/png": "[encoded data removed]",
      "text/plain": [
       "<Figure size 432x288 with 3 Axes>"
      ]
     },
     "metadata": {
      "needs_background": "light"
     },
     "output_type": "display_data"
    },
    {
     "data": {
      "image/png": "[encoded data removed]",
      "text/plain": [
       "<Figure size 432x288 with 3 Axes>"
      ]
     },
     "metadata": {
      "needs_background": "light"
     },
     "output_type": "display_data"
    },
    {
     "data": {
      "image/png": "[encoded data removed]",
      "text/plain": [
       "<Figure size 432x288 with 3 Axes>"
      ]
     },
     "metadata": {
      "needs_background": "light"
     },
     "output_type": "display_data"
    },
    {
     "data": {
      "image/png": "[encoded data removed]",
      "text/plain": [
       "<Figure size 432x288 with 3 Axes>"
      ]
     },
     "metadata": {
      "needs_background": "light"
     },
     "output_type": "display_data"
    },
    {
     "data": {
      "image/png": "[encoded data removed]",
      "text/plain": [
       "<Figure size 432x288 with 3 Axes>"
      ]
     },
     "metadata": {
      "needs_background": "light"
     },
     "output_type": "display_data"
    },
    {
     "data": {
      "image/png": "[encoded data removed]",
      "text/plain": [
       "<Figure size 432x288 with 3 Axes>"
      ]
     },
     "metadata": {
      "needs_background": "light"
     },
     "output_type": "display_data"
    },
    {
     "data": {
      "image/png": "[encoded data removed]",
      "text/plain": [
       "<Figure size 432x288 with 3 Axes>"
      ]
     },
     "metadata": {
      "needs_background": "light"
     },
     "output_type": "display_data"
    },
    {
     "data": {
      "image/png": "[encoded data removed]",
      "text/plain": [
       "<Figure size 432x288 with 3 Axes>"
      ]
     },
     "metadata": {
      "needs_background": "light"
     },
     "output_type": "display_data"
    },
    {
     "data": {
      "image/png": "[encoded data removed]",
      "text/plain": [
       "<Figure size 432x288 with 3 Axes>"
      ]
     },
     "metadata": {
      "needs_background": "light"
     },
     "output_type": "display_data"
    },
    {
     "data": {
      "image/png": "[encoded data removed]",
      "text/plain": [
       "<Figure size 432x288 with 3 Axes>"
      ]
     },
     "metadata": {
      "needs_background": "light"
     },
     "output_type": "display_data"
    },
    {
     "data": {
      "image/png": "[encoded data removed]",
      "text/plain": [
       "<Figure size 432x288 with 3 Axes>"
      ]
     },
     "metadata": {
      "needs_background": "light"
     },
     "output_type": "display_data"
    },
    {
     "data": {
      "image/png": "[encoded data removed]",
      "text/plain": [
       "<Figure size 432x288 with 3 Axes>"
      ]
     },
     "metadata": {
      "needs_background": "light"
     },
     "output_type": "display_data"
    },
    {
     "data": {
      "image/png": "[encoded data removed]",
      "text/plain": [
       "<Figure size 432x288 with 3 Axes>"
      ]
     },
     "metadata": {
      "needs_background": "light"
     },
     "output_type": "display_data"
    },
    {
     "data": {
      "image/png": "[encoded data removed]",
      "text/plain": [
       "<Figure size 432x288 with 3 Axes>"
      ]
     },
     "metadata": {
      "needs_background": "light"
     },
     "output_type": "display_data"
    },
    {
     "data": {
      "image/png": "[encoded data removed]",
      "text/plain": [
       "<Figure size 432x288 with 3 Axes>"
      ]
     },
     "metadata": {
      "needs_background": "light"
     },
     "output_type": "display_data"
    },
    {
     "data": {
      "image/png": "[encoded data removed]",
      "text/plain": [
       "<Figure size 432x288 with 3 Axes>"
      ]
     },
     "metadata": {
      "needs_background": "light"
     },
     "output_type": "display_data"
    },
    {
     "data": {
      "image/png": "[encoded data removed]",
      "text/plain": [
       "<Figure size 432x288 with 3 Axes>"
      ]
     },
     "metadata": {
      "needs_background": "light"
     },
     "output_type": "display_data"
    },
    {
     "data": {
      "image/png": "[encoded data removed]",
      "text/plain": [
       "<Figure size 432x288 with 3 Axes>"
      ]
     },
     "metadata": {
      "needs_background": "light"
     },
     "output_type": "display_data"
    },
    {
     "data": {
      "image/png": "[encoded data removed]",
      "text/plain": [
       "<Figure size 432x288 with 3 Axes>"
      ]
     },
     "metadata": {
      "needs_background": "light"
     },
     "output_type": "display_data"
    },
    {
     "data": {
      "image/png": "[encoded data removed]",
      "text/plain": [
       "<Figure size 432x288 with 3 Axes>"
      ]
     },
     "metadata": {
      "needs_background": "light"
     },
     "output_type": "display_data"
    },
    {
     "data": {
      "image/png": "[encoded data removed]",
      "text/plain": [
       "<Figure size 432x288 with 3 Axes>"
      ]
     },
     "metadata": {
      "needs_background": "light"
     },
     "output_type": "display_data"
    },
    {
     "data": {
      "image/png": "[encoded data removed]",
      "text/plain": [
       "<Figure size 432x288 with 3 Axes>"
      ]
     },
     "metadata": {
      "needs_background": "light"
     },
     "output_type": "display_data"
    },
    {
     "data": {
      "image/png": "[encoded data removed]",
      "text/plain": [
       "<Figure size 432x288 with 3 Axes>"
      ]
     },
     "metadata": {
      "needs_background": "light"
     },
     "output_type": "display_data"
    },
    {
     "data": {
      "image/png": "[encoded data removed]",
      "text/plain": [
       "<Figure size 432x288 with 3 Axes>"
      ]
     },
     "metadata": {
      "needs_background": "light"
     },
     "output_type": "display_data"
    },
    {
     "data": {
      "image/png": "[encoded data removed]",
      "text/plain": [
       "<Figure size 432x288 with 3 Axes>"
      ]
     },
     "metadata": {
      "needs_background": "light"
     },
     "output_type": "display_data"
    }
   ],
   "source": [
    "output = all_expe(liste_exp)"
   ]
  },
  {
   "cell_type": "code",
   "execution_count": 31,
   "metadata": {},
   "outputs": [
    {
     "name": "stdout",
     "output_type": "stream",
     "text": [
      "[0.1, 0.05, 0] 1 0.5952292151960095 3.504279961168541 2.4452657901439414\n",
      "[0.1, 0.02, 0] 1 0.40250306541774766 3.171127456883163 2.6397848495736733\n"
     ]
    }
   ],
   "source": [
    "for x in output:\n",
    "    param,_,e,sp,utN,ut1E,ut2E,ut3E = x\n",
    "    print(param, e, sp, ut1E, ut2E)"
   ]
  },
  {
   "cell_type": "code",
   "execution_count": null,
   "metadata": {},
   "outputs": [],
   "source": []
  }
 ],
 "metadata": {
  "kernelspec": {
   "display_name": "Python 3",
   "language": "python",
   "name": "python3"
  },
  "language_info": {
   "codemirror_mode": {
    "name": "ipython",
    "version": 3
   },
   "file_extension": ".py",
   "mimetype": "text/x-python",
   "name": "python",
   "nbconvert_exporter": "python",
   "pygments_lexer": "ipython3",
   "version": "3.7.4"
  }
 },
 "nbformat": 4,
 "nbformat_minor": 2
}
